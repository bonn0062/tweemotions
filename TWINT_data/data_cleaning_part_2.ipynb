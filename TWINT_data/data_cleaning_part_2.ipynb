{
 "cells": [
  {
   "cell_type": "markdown",
   "metadata": {},
   "source": [
    "# Data Cleaning part II"
   ]
  },
  {
   "cell_type": "markdown",
   "metadata": {},
   "source": [
    "After gathering and combining the tweets, it was important to remove null values in order to create a VADER-based sentiment analysis for data exploration."
   ]
  },
  {
   "cell_type": "code",
   "execution_count": 1,
   "metadata": {},
   "outputs": [],
   "source": [
    "import pandas as pd  \n",
    "import numpy as np\n",
    "import matplotlib.pyplot as plt\n",
    "plt.style.use('fivethirtyeight')\n",
    "\n",
    "%matplotlib inline\n",
    "%config InlineBackend.figure_format = 'retina'"
   ]
  },
  {
   "cell_type": "code",
   "execution_count": 2,
   "metadata": {
    "scrolled": true
   },
   "outputs": [
    {
     "name": "stderr",
     "output_type": "stream",
     "text": [
      "/Users/anneb/anaconda3/lib/python3.7/site-packages/IPython/core/interactiveshell.py:3049: DtypeWarning: Columns (0,1,2,3,4,5,6) have mixed types. Specify dtype option on import or set low_memory=False.\n",
      "  interactivity=interactivity, compiler=compiler, result=result)\n"
     ]
    },
    {
     "data": {
      "text/html": [
       "<div>\n",
       "<style scoped>\n",
       "    .dataframe tbody tr th:only-of-type {\n",
       "        vertical-align: middle;\n",
       "    }\n",
       "\n",
       "    .dataframe tbody tr th {\n",
       "        vertical-align: top;\n",
       "    }\n",
       "\n",
       "    .dataframe thead th {\n",
       "        text-align: right;\n",
       "    }\n",
       "</style>\n",
       "<table border=\"1\" class=\"dataframe\">\n",
       "  <thead>\n",
       "    <tr style=\"text-align: right;\">\n",
       "      <th></th>\n",
       "      <th>Unnamed: 0</th>\n",
       "      <th>Unnamed: 0.1</th>\n",
       "      <th>cashtags</th>\n",
       "      <th>hashtags</th>\n",
       "      <th>id</th>\n",
       "      <th>time</th>\n",
       "      <th>tweet</th>\n",
       "    </tr>\n",
       "  </thead>\n",
       "  <tbody>\n",
       "    <tr>\n",
       "      <th>0</th>\n",
       "      <td>0</td>\n",
       "      <td>0</td>\n",
       "      <td>[]</td>\n",
       "      <td>[]</td>\n",
       "      <td>1.15135E+18</td>\n",
       "      <td>21:25:13</td>\n",
       "      <td>Wow, my dad yday: “you don’t take those stupid...</td>\n",
       "    </tr>\n",
       "    <tr>\n",
       "      <th>1</th>\n",
       "      <td>1</td>\n",
       "      <td>1</td>\n",
       "      <td>[]</td>\n",
       "      <td>[]</td>\n",
       "      <td>1.15135E+18</td>\n",
       "      <td>21:25:07</td>\n",
       "      <td>what part of this was really harmfult of a lot...</td>\n",
       "    </tr>\n",
       "    <tr>\n",
       "      <th>2</th>\n",
       "      <td>2</td>\n",
       "      <td>2</td>\n",
       "      <td>[]</td>\n",
       "      <td>['#depression', '#uncoveringthenewu', '#change...</td>\n",
       "      <td>1.15135E+18</td>\n",
       "      <td>21:25:06</td>\n",
       "      <td>one of the ways I got through my #depression i...</td>\n",
       "    </tr>\n",
       "    <tr>\n",
       "      <th>3</th>\n",
       "      <td>3</td>\n",
       "      <td>3</td>\n",
       "      <td>[]</td>\n",
       "      <td>[]</td>\n",
       "      <td>1.15135E+18</td>\n",
       "      <td>21:24:55</td>\n",
       "      <td>see i wanna do one of them but they all say th...</td>\n",
       "    </tr>\n",
       "    <tr>\n",
       "      <th>4</th>\n",
       "      <td>4</td>\n",
       "      <td>4</td>\n",
       "      <td>[]</td>\n",
       "      <td>[]</td>\n",
       "      <td>1.15135E+18</td>\n",
       "      <td>21:24:51</td>\n",
       "      <td>IS IT clinical depression or is it the palpabl...</td>\n",
       "    </tr>\n",
       "    <tr>\n",
       "      <th>5</th>\n",
       "      <td>5</td>\n",
       "      <td>5</td>\n",
       "      <td>[]</td>\n",
       "      <td>[]</td>\n",
       "      <td>1.15135E+18</td>\n",
       "      <td>21:24:46</td>\n",
       "      <td>My new mantra for dealing with my anxiety/depr...</td>\n",
       "    </tr>\n",
       "    <tr>\n",
       "      <th>6</th>\n",
       "      <td>6</td>\n",
       "      <td>6</td>\n",
       "      <td>[]</td>\n",
       "      <td>[]</td>\n",
       "      <td>1.15135E+18</td>\n",
       "      <td>21:24:41</td>\n",
       "      <td>Can I get a woot woot for 3 months depression ...</td>\n",
       "    </tr>\n",
       "    <tr>\n",
       "      <th>7</th>\n",
       "      <td>7</td>\n",
       "      <td>7</td>\n",
       "      <td>[]</td>\n",
       "      <td>[]</td>\n",
       "      <td>1.15135E+18</td>\n",
       "      <td>21:24:37</td>\n",
       "      <td>Hope it's working for you.  I was on sertralin...</td>\n",
       "    </tr>\n",
       "    <tr>\n",
       "      <th>8</th>\n",
       "      <td>8</td>\n",
       "      <td>8</td>\n",
       "      <td>[]</td>\n",
       "      <td>[]</td>\n",
       "      <td>1.15135E+18</td>\n",
       "      <td>21:24:22</td>\n",
       "      <td>When my depression and anxiety strike at the s...</td>\n",
       "    </tr>\n",
       "    <tr>\n",
       "      <th>9</th>\n",
       "      <td>9</td>\n",
       "      <td>9</td>\n",
       "      <td>[]</td>\n",
       "      <td>[]</td>\n",
       "      <td>1.15135E+18</td>\n",
       "      <td>21:24:20</td>\n",
       "      <td>I want to leave, but I'm still waiting for you...</td>\n",
       "    </tr>\n",
       "    <tr>\n",
       "      <th>10</th>\n",
       "      <td>10</td>\n",
       "      <td>10</td>\n",
       "      <td>[]</td>\n",
       "      <td>[]</td>\n",
       "      <td>1.15135E+18</td>\n",
       "      <td>21:24:07</td>\n",
       "      <td>lrt i have FUCKING DEPRESSION</td>\n",
       "    </tr>\n",
       "    <tr>\n",
       "      <th>11</th>\n",
       "      <td>11</td>\n",
       "      <td>11</td>\n",
       "      <td>[]</td>\n",
       "      <td>[]</td>\n",
       "      <td>1.15135E+18</td>\n",
       "      <td>21:24:07</td>\n",
       "      <td>If you’re a new mother who is tired from postp...</td>\n",
       "    </tr>\n",
       "    <tr>\n",
       "      <th>12</th>\n",
       "      <td>12</td>\n",
       "      <td>12</td>\n",
       "      <td>[]</td>\n",
       "      <td>[]</td>\n",
       "      <td>1.15135E+18</td>\n",
       "      <td>21:24:04</td>\n",
       "      <td>Currently 5:23 and I’ve got depression  Ranger...</td>\n",
       "    </tr>\n",
       "    <tr>\n",
       "      <th>13</th>\n",
       "      <td>13</td>\n",
       "      <td>13</td>\n",
       "      <td>[]</td>\n",
       "      <td>[]</td>\n",
       "      <td>1.15135E+18</td>\n",
       "      <td>21:24:01</td>\n",
       "      <td>omg wish I could swim cause I'm gonna drown in...</td>\n",
       "    </tr>\n",
       "    <tr>\n",
       "      <th>14</th>\n",
       "      <td>14</td>\n",
       "      <td>14</td>\n",
       "      <td>[]</td>\n",
       "      <td>[]</td>\n",
       "      <td>1.15135E+18</td>\n",
       "      <td>21:24:00</td>\n",
       "      <td>I don’t talk about it much at all unless you’r...</td>\n",
       "    </tr>\n",
       "    <tr>\n",
       "      <th>15</th>\n",
       "      <td>15</td>\n",
       "      <td>15</td>\n",
       "      <td>[]</td>\n",
       "      <td>[]</td>\n",
       "      <td>1.15135E+18</td>\n",
       "      <td>21:23:55</td>\n",
       "      <td>🚨🚨🚨 If someone can help me by suggesting me ho...</td>\n",
       "    </tr>\n",
       "    <tr>\n",
       "      <th>16</th>\n",
       "      <td>16</td>\n",
       "      <td>16</td>\n",
       "      <td>[]</td>\n",
       "      <td>[]</td>\n",
       "      <td>1.15135E+18</td>\n",
       "      <td>21:23:39</td>\n",
       "      <td>luv 2 just start crying bc you're thinking of ...</td>\n",
       "    </tr>\n",
       "    <tr>\n",
       "      <th>17</th>\n",
       "      <td>17</td>\n",
       "      <td>17</td>\n",
       "      <td>[]</td>\n",
       "      <td>[]</td>\n",
       "      <td>1.15135E+18</td>\n",
       "      <td>21:23:33</td>\n",
       "      <td>yOu cAnT hUrT mE DePrEsSiOn GoT mE AlReAdY</td>\n",
       "    </tr>\n",
       "    <tr>\n",
       "      <th>18</th>\n",
       "      <td>18</td>\n",
       "      <td>18</td>\n",
       "      <td>[]</td>\n",
       "      <td>[]</td>\n",
       "      <td>1.15135E+18</td>\n",
       "      <td>21:23:32</td>\n",
       "      <td>The free market cab cure your depression, just...</td>\n",
       "    </tr>\n",
       "    <tr>\n",
       "      <th>19</th>\n",
       "      <td>19</td>\n",
       "      <td>19</td>\n",
       "      <td>[]</td>\n",
       "      <td>[]</td>\n",
       "      <td>1.15135E+18</td>\n",
       "      <td>21:23:31</td>\n",
       "      <td>I’m not steeped enough in the research to have...</td>\n",
       "    </tr>\n",
       "    <tr>\n",
       "      <th>20</th>\n",
       "      <td>20</td>\n",
       "      <td>20</td>\n",
       "      <td>[]</td>\n",
       "      <td>['#triggerwarning']</td>\n",
       "      <td>1.15135E+18</td>\n",
       "      <td>21:23:28</td>\n",
       "      <td>I feel like I can’t work for more than two to ...</td>\n",
       "    </tr>\n",
       "    <tr>\n",
       "      <th>21</th>\n",
       "      <td>21</td>\n",
       "      <td>21</td>\n",
       "      <td>[]</td>\n",
       "      <td>[]</td>\n",
       "      <td>1.15135E+18</td>\n",
       "      <td>21:23:28</td>\n",
       "      <td>dvdRadio 102 Still looking for a title.  (That...</td>\n",
       "    </tr>\n",
       "    <tr>\n",
       "      <th>22</th>\n",
       "      <td>22</td>\n",
       "      <td>22</td>\n",
       "      <td>[]</td>\n",
       "      <td>[]</td>\n",
       "      <td>1.15135E+18</td>\n",
       "      <td>21:23:27</td>\n",
       "      <td>Do you recommend this for every kind of depres...</td>\n",
       "    </tr>\n",
       "    <tr>\n",
       "      <th>23</th>\n",
       "      <td>23</td>\n",
       "      <td>23</td>\n",
       "      <td>[]</td>\n",
       "      <td>[]</td>\n",
       "      <td>1.15135E+18</td>\n",
       "      <td>21:23:26</td>\n",
       "      <td>I was having a bad day and was all depressed. ...</td>\n",
       "    </tr>\n",
       "    <tr>\n",
       "      <th>24</th>\n",
       "      <td>24</td>\n",
       "      <td>24</td>\n",
       "      <td>[]</td>\n",
       "      <td>[]</td>\n",
       "      <td>1.15135E+18</td>\n",
       "      <td>21:23:25</td>\n",
       "      <td>but it completely makes sense tho it a surviva...</td>\n",
       "    </tr>\n",
       "    <tr>\n",
       "      <th>25</th>\n",
       "      <td>25</td>\n",
       "      <td>25</td>\n",
       "      <td>[]</td>\n",
       "      <td>[]</td>\n",
       "      <td>1.15135E+18</td>\n",
       "      <td>21:23:23</td>\n",
       "      <td>For example a top has to know how to deal with...</td>\n",
       "    </tr>\n",
       "    <tr>\n",
       "      <th>26</th>\n",
       "      <td>26</td>\n",
       "      <td>26</td>\n",
       "      <td>[]</td>\n",
       "      <td>[]</td>\n",
       "      <td>1.15135E+18</td>\n",
       "      <td>21:23:17</td>\n",
       "      <td>So. Here is the short and skinny about me here...</td>\n",
       "    </tr>\n",
       "    <tr>\n",
       "      <th>27</th>\n",
       "      <td>27</td>\n",
       "      <td>27</td>\n",
       "      <td>[]</td>\n",
       "      <td>[]</td>\n",
       "      <td>1.15135E+18</td>\n",
       "      <td>21:23:12</td>\n",
       "      <td>me when someone points out my crippling anxiet...</td>\n",
       "    </tr>\n",
       "    <tr>\n",
       "      <th>28</th>\n",
       "      <td>28</td>\n",
       "      <td>28</td>\n",
       "      <td>[]</td>\n",
       "      <td>[]</td>\n",
       "      <td>1.15135E+18</td>\n",
       "      <td>21:23:05</td>\n",
       "      <td>No one:  Literally no one:  Clair Boucher/ム尺ﾉﾶ...</td>\n",
       "    </tr>\n",
       "    <tr>\n",
       "      <th>29</th>\n",
       "      <td>29</td>\n",
       "      <td>29</td>\n",
       "      <td>[]</td>\n",
       "      <td>[]</td>\n",
       "      <td>1.15135E+18</td>\n",
       "      <td>21:22:52</td>\n",
       "      <td>As a platoon leader I have to deal with that m...</td>\n",
       "    </tr>\n",
       "    <tr>\n",
       "      <th>...</th>\n",
       "      <td>...</td>\n",
       "      <td>...</td>\n",
       "      <td>...</td>\n",
       "      <td>...</td>\n",
       "      <td>...</td>\n",
       "      <td>...</td>\n",
       "      <td>...</td>\n",
       "    </tr>\n",
       "    <tr>\n",
       "      <th>2783546</th>\n",
       "      <td>225147</td>\n",
       "      <td>NaN</td>\n",
       "      <td>[]</td>\n",
       "      <td>[]</td>\n",
       "      <td>1.15237e+18</td>\n",
       "      <td>17:02:25</td>\n",
       "      <td>Suicide by oyster is a noble way to go  https:...</td>\n",
       "    </tr>\n",
       "    <tr>\n",
       "      <th>2783547</th>\n",
       "      <td>225148</td>\n",
       "      <td>NaN</td>\n",
       "      <td>[]</td>\n",
       "      <td>[]</td>\n",
       "      <td>1.15237e+18</td>\n",
       "      <td>17:02:24</td>\n",
       "      <td>floors are covered in water, so obviously a cl...</td>\n",
       "    </tr>\n",
       "    <tr>\n",
       "      <th>2783548</th>\n",
       "      <td>225149</td>\n",
       "      <td>NaN</td>\n",
       "      <td>[]</td>\n",
       "      <td>[]</td>\n",
       "      <td>1.15237e+18</td>\n",
       "      <td>17:02:17</td>\n",
       "      <td>That's a depressingly relatable perspective.  ...</td>\n",
       "    </tr>\n",
       "    <tr>\n",
       "      <th>2783549</th>\n",
       "      <td>225150</td>\n",
       "      <td>NaN</td>\n",
       "      <td>[]</td>\n",
       "      <td>[]</td>\n",
       "      <td>1.15237e+18</td>\n",
       "      <td>17:02:15</td>\n",
       "      <td>@glitterndior https://twitter.com/DankNeme/sta...</td>\n",
       "    </tr>\n",
       "    <tr>\n",
       "      <th>2783550</th>\n",
       "      <td>225151</td>\n",
       "      <td>NaN</td>\n",
       "      <td>[]</td>\n",
       "      <td>[]</td>\n",
       "      <td>1.15237e+18</td>\n",
       "      <td>17:02:13</td>\n",
       "      <td>TW for suicide and fatphobia.  My mom has seve...</td>\n",
       "    </tr>\n",
       "    <tr>\n",
       "      <th>2783551</th>\n",
       "      <td>225152</td>\n",
       "      <td>NaN</td>\n",
       "      <td>[]</td>\n",
       "      <td>[]</td>\n",
       "      <td>1.15237e+18</td>\n",
       "      <td>17:02:03</td>\n",
       "      <td>« Le professeur meurt et Tokyo se suicide » jl...</td>\n",
       "    </tr>\n",
       "    <tr>\n",
       "      <th>2783552</th>\n",
       "      <td>225153</td>\n",
       "      <td>NaN</td>\n",
       "      <td>[]</td>\n",
       "      <td>[]</td>\n",
       "      <td>1.15237e+18</td>\n",
       "      <td>17:02:02</td>\n",
       "      <td>Telling a gay youth is choices are suicide, ex...</td>\n",
       "    </tr>\n",
       "    <tr>\n",
       "      <th>2783553</th>\n",
       "      <td>225154</td>\n",
       "      <td>NaN</td>\n",
       "      <td>[]</td>\n",
       "      <td>[]</td>\n",
       "      <td>1.15237e+18</td>\n",
       "      <td>17:02:01</td>\n",
       "      <td>Tokyo tue professor et se suicide</td>\n",
       "    </tr>\n",
       "    <tr>\n",
       "      <th>2783554</th>\n",
       "      <td>225155</td>\n",
       "      <td>NaN</td>\n",
       "      <td>[]</td>\n",
       "      <td>[]</td>\n",
       "      <td>1.15237e+18</td>\n",
       "      <td>17:02:00</td>\n",
       "      <td>suicide's time :))</td>\n",
       "    </tr>\n",
       "    <tr>\n",
       "      <th>2783555</th>\n",
       "      <td>225156</td>\n",
       "      <td>NaN</td>\n",
       "      <td>[]</td>\n",
       "      <td>[]</td>\n",
       "      <td>1.15237e+18</td>\n",
       "      <td>17:01:58</td>\n",
       "      <td>For Those Considering Suicide  https://youtu.b...</td>\n",
       "    </tr>\n",
       "    <tr>\n",
       "      <th>2783556</th>\n",
       "      <td>225157</td>\n",
       "      <td>NaN</td>\n",
       "      <td>[]</td>\n",
       "      <td>[]</td>\n",
       "      <td>1.15237e+18</td>\n",
       "      <td>17:01:54</td>\n",
       "      <td>Tf suicide isn’t no joke  https://twitter.com/...</td>\n",
       "    </tr>\n",
       "    <tr>\n",
       "      <th>2783557</th>\n",
       "      <td>225158</td>\n",
       "      <td>NaN</td>\n",
       "      <td>[]</td>\n",
       "      <td>[]</td>\n",
       "      <td>1.15237e+18</td>\n",
       "      <td>17:01:53</td>\n",
       "      <td>It always brings to mind the “body in the bag ...</td>\n",
       "    </tr>\n",
       "    <tr>\n",
       "      <th>2783558</th>\n",
       "      <td>225159</td>\n",
       "      <td>NaN</td>\n",
       "      <td>[]</td>\n",
       "      <td>['#suicidesilence', '#youonlyliveonce', '#lege...</td>\n",
       "      <td>1.15237e+18</td>\n",
       "      <td>17:01:45</td>\n",
       "      <td>You only live once so just go fucking nuts!Go!...</td>\n",
       "    </tr>\n",
       "    <tr>\n",
       "      <th>2783559</th>\n",
       "      <td>225160</td>\n",
       "      <td>NaN</td>\n",
       "      <td>[]</td>\n",
       "      <td>[]</td>\n",
       "      <td>1.15237e+18</td>\n",
       "      <td>17:01:40</td>\n",
       "      <td>i cant wait to entrap a woman into a web of vi...</td>\n",
       "    </tr>\n",
       "    <tr>\n",
       "      <th>2783560</th>\n",
       "      <td>225161</td>\n",
       "      <td>NaN</td>\n",
       "      <td>[]</td>\n",
       "      <td>[]</td>\n",
       "      <td>1.15237e+18</td>\n",
       "      <td>17:01:21</td>\n",
       "      <td>고마웠었어 #€</td>\n",
       "    </tr>\n",
       "    <tr>\n",
       "      <th>2783561</th>\n",
       "      <td>225162</td>\n",
       "      <td>NaN</td>\n",
       "      <td>[]</td>\n",
       "      <td>[]</td>\n",
       "      <td>1.15237e+18</td>\n",
       "      <td>17:01:14</td>\n",
       "      <td>The “Clinton Suicide Squad “ is gearing up as ...</td>\n",
       "    </tr>\n",
       "    <tr>\n",
       "      <th>2783562</th>\n",
       "      <td>225163</td>\n",
       "      <td>NaN</td>\n",
       "      <td>[]</td>\n",
       "      <td>[]</td>\n",
       "      <td>1.15237e+18</td>\n",
       "      <td>17:01:14</td>\n",
       "      <td>Last Monday a I had to tell a client his benef...</td>\n",
       "    </tr>\n",
       "    <tr>\n",
       "      <th>2783563</th>\n",
       "      <td>225164</td>\n",
       "      <td>NaN</td>\n",
       "      <td>[]</td>\n",
       "      <td>[]</td>\n",
       "      <td>1.15237e+18</td>\n",
       "      <td>17:01:08</td>\n",
       "      <td>http://bit.ly/MurderOfTalent  Why is the publ...</td>\n",
       "    </tr>\n",
       "    <tr>\n",
       "      <th>2783564</th>\n",
       "      <td>225165</td>\n",
       "      <td>NaN</td>\n",
       "      <td>[]</td>\n",
       "      <td>[]</td>\n",
       "      <td>1.15237e+18</td>\n",
       "      <td>17:01:02</td>\n",
       "      <td>戸塚：電車の車内でケータイが鳴った一八木さんが「いま電話の中だから電車切るぞ」って言ってケー...</td>\n",
       "    </tr>\n",
       "    <tr>\n",
       "      <th>2783565</th>\n",
       "      <td>225166</td>\n",
       "      <td>NaN</td>\n",
       "      <td>[]</td>\n",
       "      <td>[]</td>\n",
       "      <td>1.15237e+18</td>\n",
       "      <td>17:00:54</td>\n",
       "      <td>y'a pas d'incruste ti é la famille</td>\n",
       "    </tr>\n",
       "    <tr>\n",
       "      <th>2783566</th>\n",
       "      <td>225167</td>\n",
       "      <td>NaN</td>\n",
       "      <td>[]</td>\n",
       "      <td>['#mentalhealth', '#suicideprevention']</td>\n",
       "      <td>1.15237e+18</td>\n",
       "      <td>17:00:52</td>\n",
       "      <td>A study will use CCTV from certain locations t...</td>\n",
       "    </tr>\n",
       "    <tr>\n",
       "      <th>2783567</th>\n",
       "      <td>225168</td>\n",
       "      <td>NaN</td>\n",
       "      <td>[]</td>\n",
       "      <td>[]</td>\n",
       "      <td>1.15237e+18</td>\n",
       "      <td>17:00:41</td>\n",
       "      <td>Since I was reminded of her today, everyone pl...</td>\n",
       "    </tr>\n",
       "    <tr>\n",
       "      <th>2783568</th>\n",
       "      <td>225169</td>\n",
       "      <td>NaN</td>\n",
       "      <td>[]</td>\n",
       "      <td>[]</td>\n",
       "      <td>1.15237e+18</td>\n",
       "      <td>17:00:35</td>\n",
       "      <td>Mariko was a quick favorite for me. I'm glad s...</td>\n",
       "    </tr>\n",
       "    <tr>\n",
       "      <th>2783569</th>\n",
       "      <td>225170</td>\n",
       "      <td>NaN</td>\n",
       "      <td>[]</td>\n",
       "      <td>[]</td>\n",
       "      <td>1.15237e+18</td>\n",
       "      <td>17:00:22</td>\n",
       "      <td>pic.twitter.com/sm9tNmrEQJ</td>\n",
       "    </tr>\n",
       "    <tr>\n",
       "      <th>2783570</th>\n",
       "      <td>225171</td>\n",
       "      <td>NaN</td>\n",
       "      <td>[]</td>\n",
       "      <td>[]</td>\n",
       "      <td>1.15237e+18</td>\n",
       "      <td>17:00:18</td>\n",
       "      <td>https://youtu.be/WJ0OkkIDZug   Deathnote is r...</td>\n",
       "    </tr>\n",
       "    <tr>\n",
       "      <th>2783571</th>\n",
       "      <td>225172</td>\n",
       "      <td>NaN</td>\n",
       "      <td>[]</td>\n",
       "      <td>[]</td>\n",
       "      <td>1.15237e+18</td>\n",
       "      <td>17:00:17</td>\n",
       "      <td>えっ？！オニィ結構なお歳……（今知った） 変な声でちゃった(笑)</td>\n",
       "    </tr>\n",
       "    <tr>\n",
       "      <th>2783572</th>\n",
       "      <td>225173</td>\n",
       "      <td>NaN</td>\n",
       "      <td>[]</td>\n",
       "      <td>['#physicianfriday', '#suicide', '#physicians'...</td>\n",
       "      <td>1.15237e+18</td>\n",
       "      <td>17:00:12</td>\n",
       "      <td>#PhysicianFriday \"Let's empower doctors to tak...</td>\n",
       "    </tr>\n",
       "    <tr>\n",
       "      <th>2783573</th>\n",
       "      <td>225174</td>\n",
       "      <td>NaN</td>\n",
       "      <td>[]</td>\n",
       "      <td>['#aztrauma', '#traumatraining', '#suicide', '...</td>\n",
       "      <td>1.15237e+18</td>\n",
       "      <td>17:00:01</td>\n",
       "      <td>A spike in suicides among teenage boys in the ...</td>\n",
       "    </tr>\n",
       "    <tr>\n",
       "      <th>2783574</th>\n",
       "      <td>225175</td>\n",
       "      <td>NaN</td>\n",
       "      <td>[]</td>\n",
       "      <td>[]</td>\n",
       "      <td>1.15237e+18</td>\n",
       "      <td>17:00:00</td>\n",
       "      <td>Need some support? Check out the following res...</td>\n",
       "    </tr>\n",
       "    <tr>\n",
       "      <th>2783575</th>\n",
       "      <td>225176</td>\n",
       "      <td>NaN</td>\n",
       "      <td>[]</td>\n",
       "      <td>[]</td>\n",
       "      <td>1.15237e+18</td>\n",
       "      <td>17:00:00</td>\n",
       "      <td>You can improve the quality of life for a frie...</td>\n",
       "    </tr>\n",
       "  </tbody>\n",
       "</table>\n",
       "<p>2783576 rows × 7 columns</p>\n",
       "</div>"
      ],
      "text/plain": [
       "        Unnamed: 0 Unnamed: 0.1 cashtags  \\\n",
       "0                0            0       []   \n",
       "1                1            1       []   \n",
       "2                2            2       []   \n",
       "3                3            3       []   \n",
       "4                4            4       []   \n",
       "5                5            5       []   \n",
       "6                6            6       []   \n",
       "7                7            7       []   \n",
       "8                8            8       []   \n",
       "9                9            9       []   \n",
       "10              10           10       []   \n",
       "11              11           11       []   \n",
       "12              12           12       []   \n",
       "13              13           13       []   \n",
       "14              14           14       []   \n",
       "15              15           15       []   \n",
       "16              16           16       []   \n",
       "17              17           17       []   \n",
       "18              18           18       []   \n",
       "19              19           19       []   \n",
       "20              20           20       []   \n",
       "21              21           21       []   \n",
       "22              22           22       []   \n",
       "23              23           23       []   \n",
       "24              24           24       []   \n",
       "25              25           25       []   \n",
       "26              26           26       []   \n",
       "27              27           27       []   \n",
       "28              28           28       []   \n",
       "29              29           29       []   \n",
       "...            ...          ...      ...   \n",
       "2783546     225147          NaN       []   \n",
       "2783547     225148          NaN       []   \n",
       "2783548     225149          NaN       []   \n",
       "2783549     225150          NaN       []   \n",
       "2783550     225151          NaN       []   \n",
       "2783551     225152          NaN       []   \n",
       "2783552     225153          NaN       []   \n",
       "2783553     225154          NaN       []   \n",
       "2783554     225155          NaN       []   \n",
       "2783555     225156          NaN       []   \n",
       "2783556     225157          NaN       []   \n",
       "2783557     225158          NaN       []   \n",
       "2783558     225159          NaN       []   \n",
       "2783559     225160          NaN       []   \n",
       "2783560     225161          NaN       []   \n",
       "2783561     225162          NaN       []   \n",
       "2783562     225163          NaN       []   \n",
       "2783563     225164          NaN       []   \n",
       "2783564     225165          NaN       []   \n",
       "2783565     225166          NaN       []   \n",
       "2783566     225167          NaN       []   \n",
       "2783567     225168          NaN       []   \n",
       "2783568     225169          NaN       []   \n",
       "2783569     225170          NaN       []   \n",
       "2783570     225171          NaN       []   \n",
       "2783571     225172          NaN       []   \n",
       "2783572     225173          NaN       []   \n",
       "2783573     225174          NaN       []   \n",
       "2783574     225175          NaN       []   \n",
       "2783575     225176          NaN       []   \n",
       "\n",
       "                                                  hashtags           id  \\\n",
       "0                                                       []  1.15135E+18   \n",
       "1                                                       []  1.15135E+18   \n",
       "2        ['#depression', '#uncoveringthenewu', '#change...  1.15135E+18   \n",
       "3                                                       []  1.15135E+18   \n",
       "4                                                       []  1.15135E+18   \n",
       "5                                                       []  1.15135E+18   \n",
       "6                                                       []  1.15135E+18   \n",
       "7                                                       []  1.15135E+18   \n",
       "8                                                       []  1.15135E+18   \n",
       "9                                                       []  1.15135E+18   \n",
       "10                                                      []  1.15135E+18   \n",
       "11                                                      []  1.15135E+18   \n",
       "12                                                      []  1.15135E+18   \n",
       "13                                                      []  1.15135E+18   \n",
       "14                                                      []  1.15135E+18   \n",
       "15                                                      []  1.15135E+18   \n",
       "16                                                      []  1.15135E+18   \n",
       "17                                                      []  1.15135E+18   \n",
       "18                                                      []  1.15135E+18   \n",
       "19                                                      []  1.15135E+18   \n",
       "20                                     ['#triggerwarning']  1.15135E+18   \n",
       "21                                                      []  1.15135E+18   \n",
       "22                                                      []  1.15135E+18   \n",
       "23                                                      []  1.15135E+18   \n",
       "24                                                      []  1.15135E+18   \n",
       "25                                                      []  1.15135E+18   \n",
       "26                                                      []  1.15135E+18   \n",
       "27                                                      []  1.15135E+18   \n",
       "28                                                      []  1.15135E+18   \n",
       "29                                                      []  1.15135E+18   \n",
       "...                                                    ...          ...   \n",
       "2783546                                                 []  1.15237e+18   \n",
       "2783547                                                 []  1.15237e+18   \n",
       "2783548                                                 []  1.15237e+18   \n",
       "2783549                                                 []  1.15237e+18   \n",
       "2783550                                                 []  1.15237e+18   \n",
       "2783551                                                 []  1.15237e+18   \n",
       "2783552                                                 []  1.15237e+18   \n",
       "2783553                                                 []  1.15237e+18   \n",
       "2783554                                                 []  1.15237e+18   \n",
       "2783555                                                 []  1.15237e+18   \n",
       "2783556                                                 []  1.15237e+18   \n",
       "2783557                                                 []  1.15237e+18   \n",
       "2783558  ['#suicidesilence', '#youonlyliveonce', '#lege...  1.15237e+18   \n",
       "2783559                                                 []  1.15237e+18   \n",
       "2783560                                                 []  1.15237e+18   \n",
       "2783561                                                 []  1.15237e+18   \n",
       "2783562                                                 []  1.15237e+18   \n",
       "2783563                                                 []  1.15237e+18   \n",
       "2783564                                                 []  1.15237e+18   \n",
       "2783565                                                 []  1.15237e+18   \n",
       "2783566            ['#mentalhealth', '#suicideprevention']  1.15237e+18   \n",
       "2783567                                                 []  1.15237e+18   \n",
       "2783568                                                 []  1.15237e+18   \n",
       "2783569                                                 []  1.15237e+18   \n",
       "2783570                                                 []  1.15237e+18   \n",
       "2783571                                                 []  1.15237e+18   \n",
       "2783572  ['#physicianfriday', '#suicide', '#physicians'...  1.15237e+18   \n",
       "2783573  ['#aztrauma', '#traumatraining', '#suicide', '...  1.15237e+18   \n",
       "2783574                                                 []  1.15237e+18   \n",
       "2783575                                                 []  1.15237e+18   \n",
       "\n",
       "             time                                              tweet  \n",
       "0        21:25:13  Wow, my dad yday: “you don’t take those stupid...  \n",
       "1        21:25:07  what part of this was really harmfult of a lot...  \n",
       "2        21:25:06  one of the ways I got through my #depression i...  \n",
       "3        21:24:55  see i wanna do one of them but they all say th...  \n",
       "4        21:24:51  IS IT clinical depression or is it the palpabl...  \n",
       "5        21:24:46  My new mantra for dealing with my anxiety/depr...  \n",
       "6        21:24:41  Can I get a woot woot for 3 months depression ...  \n",
       "7        21:24:37  Hope it's working for you.  I was on sertralin...  \n",
       "8        21:24:22  When my depression and anxiety strike at the s...  \n",
       "9        21:24:20  I want to leave, but I'm still waiting for you...  \n",
       "10       21:24:07                      lrt i have FUCKING DEPRESSION  \n",
       "11       21:24:07  If you’re a new mother who is tired from postp...  \n",
       "12       21:24:04  Currently 5:23 and I’ve got depression  Ranger...  \n",
       "13       21:24:01  omg wish I could swim cause I'm gonna drown in...  \n",
       "14       21:24:00  I don’t talk about it much at all unless you’r...  \n",
       "15       21:23:55  🚨🚨🚨 If someone can help me by suggesting me ho...  \n",
       "16       21:23:39  luv 2 just start crying bc you're thinking of ...  \n",
       "17       21:23:33         yOu cAnT hUrT mE DePrEsSiOn GoT mE AlReAdY  \n",
       "18       21:23:32  The free market cab cure your depression, just...  \n",
       "19       21:23:31  I’m not steeped enough in the research to have...  \n",
       "20       21:23:28  I feel like I can’t work for more than two to ...  \n",
       "21       21:23:28  dvdRadio 102 Still looking for a title.  (That...  \n",
       "22       21:23:27  Do you recommend this for every kind of depres...  \n",
       "23       21:23:26  I was having a bad day and was all depressed. ...  \n",
       "24       21:23:25  but it completely makes sense tho it a surviva...  \n",
       "25       21:23:23  For example a top has to know how to deal with...  \n",
       "26       21:23:17  So. Here is the short and skinny about me here...  \n",
       "27       21:23:12  me when someone points out my crippling anxiet...  \n",
       "28       21:23:05  No one:  Literally no one:  Clair Boucher/ム尺ﾉﾶ...  \n",
       "29       21:22:52  As a platoon leader I have to deal with that m...  \n",
       "...           ...                                                ...  \n",
       "2783546  17:02:25  Suicide by oyster is a noble way to go  https:...  \n",
       "2783547  17:02:24  floors are covered in water, so obviously a cl...  \n",
       "2783548  17:02:17  That's a depressingly relatable perspective.  ...  \n",
       "2783549  17:02:15  @glitterndior https://twitter.com/DankNeme/sta...  \n",
       "2783550  17:02:13  TW for suicide and fatphobia.  My mom has seve...  \n",
       "2783551  17:02:03  « Le professeur meurt et Tokyo se suicide » jl...  \n",
       "2783552  17:02:02  Telling a gay youth is choices are suicide, ex...  \n",
       "2783553  17:02:01                  Tokyo tue professor et se suicide  \n",
       "2783554  17:02:00                                 suicide's time :))  \n",
       "2783555  17:01:58  For Those Considering Suicide  https://youtu.b...  \n",
       "2783556  17:01:54  Tf suicide isn’t no joke  https://twitter.com/...  \n",
       "2783557  17:01:53  It always brings to mind the “body in the bag ...  \n",
       "2783558  17:01:45  You only live once so just go fucking nuts!Go!...  \n",
       "2783559  17:01:40  i cant wait to entrap a woman into a web of vi...  \n",
       "2783560  17:01:21                                           고마웠었어 #€  \n",
       "2783561  17:01:14  The “Clinton Suicide Squad “ is gearing up as ...  \n",
       "2783562  17:01:14  Last Monday a I had to tell a client his benef...  \n",
       "2783563  17:01:08   http://bit.ly/MurderOfTalent  Why is the publ...  \n",
       "2783564  17:01:02  戸塚：電車の車内でケータイが鳴った一八木さんが「いま電話の中だから電車切るぞ」って言ってケー...  \n",
       "2783565  17:00:54                 y'a pas d'incruste ti é la famille  \n",
       "2783566  17:00:52  A study will use CCTV from certain locations t...  \n",
       "2783567  17:00:41  Since I was reminded of her today, everyone pl...  \n",
       "2783568  17:00:35  Mariko was a quick favorite for me. I'm glad s...  \n",
       "2783569  17:00:22                         pic.twitter.com/sm9tNmrEQJ  \n",
       "2783570  17:00:18   https://youtu.be/WJ0OkkIDZug   Deathnote is r...  \n",
       "2783571  17:00:17                   えっ？！オニィ結構なお歳……（今知った） 変な声でちゃった(笑)  \n",
       "2783572  17:00:12  #PhysicianFriday \"Let's empower doctors to tak...  \n",
       "2783573  17:00:01  A spike in suicides among teenage boys in the ...  \n",
       "2783574  17:00:00  Need some support? Check out the following res...  \n",
       "2783575  17:00:00  You can improve the quality of life for a frie...  \n",
       "\n",
       "[2783576 rows x 7 columns]"
      ]
     },
     "execution_count": 2,
     "metadata": {},
     "output_type": "execute_result"
    }
   ],
   "source": [
    "pd.read_csv('depressive_unigram_tweets_final.csv')"
   ]
  },
  {
   "cell_type": "code",
   "execution_count": 3,
   "metadata": {},
   "outputs": [
    {
     "name": "stderr",
     "output_type": "stream",
     "text": [
      "[nltk_data] Downloading package punkt to /Users/anneb/nltk_data...\n",
      "[nltk_data]   Package punkt is already up-to-date!\n",
      "[nltk_data] Downloading package stopwords to /Users/anneb/nltk_data...\n",
      "[nltk_data]   Package stopwords is already up-to-date!\n"
     ]
    }
   ],
   "source": [
    "import nltk\n",
    "nltk.download(['punkt','stopwords'])\n",
    "from nltk.corpus import stopwords\n",
    "stopwords = stopwords.words('english')\n",
    "\n",
    "from vaderSentiment.vaderSentiment import SentimentIntensityAnalyzer\n",
    "analyzer = SentimentIntensityAnalyzer()"
   ]
  },
  {
   "cell_type": "code",
   "execution_count": 4,
   "metadata": {},
   "outputs": [
    {
     "name": "stderr",
     "output_type": "stream",
     "text": [
      "/Users/anneb/anaconda3/lib/python3.7/site-packages/IPython/core/interactiveshell.py:3049: DtypeWarning: Columns (0,1,2,3,4,5,6) have mixed types. Specify dtype option on import or set low_memory=False.\n",
      "  interactivity=interactivity, compiler=compiler, result=result)\n"
     ]
    }
   ],
   "source": [
    "df2 = pd.read_csv('depressive_unigram_tweets_final.csv')"
   ]
  },
  {
   "cell_type": "code",
   "execution_count": 5,
   "metadata": {},
   "outputs": [
    {
     "data": {
      "text/html": [
       "<div>\n",
       "<style scoped>\n",
       "    .dataframe tbody tr th:only-of-type {\n",
       "        vertical-align: middle;\n",
       "    }\n",
       "\n",
       "    .dataframe tbody tr th {\n",
       "        vertical-align: top;\n",
       "    }\n",
       "\n",
       "    .dataframe thead th {\n",
       "        text-align: right;\n",
       "    }\n",
       "</style>\n",
       "<table border=\"1\" class=\"dataframe\">\n",
       "  <thead>\n",
       "    <tr style=\"text-align: right;\">\n",
       "      <th></th>\n",
       "      <th>Unnamed: 0</th>\n",
       "      <th>Unnamed: 0.1</th>\n",
       "      <th>cashtags</th>\n",
       "      <th>hashtags</th>\n",
       "      <th>id</th>\n",
       "      <th>time</th>\n",
       "      <th>tweet</th>\n",
       "    </tr>\n",
       "  </thead>\n",
       "  <tbody>\n",
       "    <tr>\n",
       "      <th>0</th>\n",
       "      <td>0</td>\n",
       "      <td>0</td>\n",
       "      <td>[]</td>\n",
       "      <td>[]</td>\n",
       "      <td>1.15135E+18</td>\n",
       "      <td>21:25:13</td>\n",
       "      <td>Wow, my dad yday: “you don’t take those stupid...</td>\n",
       "    </tr>\n",
       "    <tr>\n",
       "      <th>1</th>\n",
       "      <td>1</td>\n",
       "      <td>1</td>\n",
       "      <td>[]</td>\n",
       "      <td>[]</td>\n",
       "      <td>1.15135E+18</td>\n",
       "      <td>21:25:07</td>\n",
       "      <td>what part of this was really harmfult of a lot...</td>\n",
       "    </tr>\n",
       "    <tr>\n",
       "      <th>2</th>\n",
       "      <td>2</td>\n",
       "      <td>2</td>\n",
       "      <td>[]</td>\n",
       "      <td>['#depression', '#uncoveringthenewu', '#change...</td>\n",
       "      <td>1.15135E+18</td>\n",
       "      <td>21:25:06</td>\n",
       "      <td>one of the ways I got through my #depression i...</td>\n",
       "    </tr>\n",
       "    <tr>\n",
       "      <th>3</th>\n",
       "      <td>3</td>\n",
       "      <td>3</td>\n",
       "      <td>[]</td>\n",
       "      <td>[]</td>\n",
       "      <td>1.15135E+18</td>\n",
       "      <td>21:24:55</td>\n",
       "      <td>see i wanna do one of them but they all say th...</td>\n",
       "    </tr>\n",
       "    <tr>\n",
       "      <th>4</th>\n",
       "      <td>4</td>\n",
       "      <td>4</td>\n",
       "      <td>[]</td>\n",
       "      <td>[]</td>\n",
       "      <td>1.15135E+18</td>\n",
       "      <td>21:24:51</td>\n",
       "      <td>IS IT clinical depression or is it the palpabl...</td>\n",
       "    </tr>\n",
       "  </tbody>\n",
       "</table>\n",
       "</div>"
      ],
      "text/plain": [
       "  Unnamed: 0 Unnamed: 0.1 cashtags  \\\n",
       "0          0            0       []   \n",
       "1          1            1       []   \n",
       "2          2            2       []   \n",
       "3          3            3       []   \n",
       "4          4            4       []   \n",
       "\n",
       "                                            hashtags           id      time  \\\n",
       "0                                                 []  1.15135E+18  21:25:13   \n",
       "1                                                 []  1.15135E+18  21:25:07   \n",
       "2  ['#depression', '#uncoveringthenewu', '#change...  1.15135E+18  21:25:06   \n",
       "3                                                 []  1.15135E+18  21:24:55   \n",
       "4                                                 []  1.15135E+18  21:24:51   \n",
       "\n",
       "                                               tweet  \n",
       "0  Wow, my dad yday: “you don’t take those stupid...  \n",
       "1  what part of this was really harmfult of a lot...  \n",
       "2  one of the ways I got through my #depression i...  \n",
       "3  see i wanna do one of them but they all say th...  \n",
       "4  IS IT clinical depression or is it the palpabl...  "
      ]
     },
     "execution_count": 5,
     "metadata": {},
     "output_type": "execute_result"
    }
   ],
   "source": [
    "df2.head()"
   ]
  },
  {
   "cell_type": "code",
   "execution_count": 6,
   "metadata": {},
   "outputs": [
    {
     "data": {
      "text/plain": [
       "True"
      ]
     },
     "execution_count": 6,
     "metadata": {},
     "output_type": "execute_result"
    }
   ],
   "source": [
    "df2.isnull().any().any()  "
   ]
  },
  {
   "cell_type": "code",
   "execution_count": 7,
   "metadata": {},
   "outputs": [
    {
     "name": "stdout",
     "output_type": "stream",
     "text": [
      "<class 'pandas.core.frame.DataFrame'>\n",
      "RangeIndex: 2783576 entries, 0 to 2783575\n",
      "Data columns (total 7 columns):\n",
      "Unnamed: 0      2783576 non-null object\n",
      "Unnamed: 0.1    135497 non-null object\n",
      "cashtags        1650586 non-null object\n",
      "hashtags        1650586 non-null object\n",
      "id              1650612 non-null object\n",
      "time            1650612 non-null object\n",
      "tweet           1650599 non-null object\n",
      "dtypes: object(7)\n",
      "memory usage: 148.7+ MB\n"
     ]
    }
   ],
   "source": [
    "df2.info(null_counts=True) "
   ]
  },
  {
   "cell_type": "code",
   "execution_count": 8,
   "metadata": {},
   "outputs": [],
   "source": [
    "df_new = df2[df2['tweet'].notnull()]"
   ]
  },
  {
   "cell_type": "code",
   "execution_count": 9,
   "metadata": {},
   "outputs": [
    {
     "name": "stdout",
     "output_type": "stream",
     "text": [
      "<class 'pandas.core.frame.DataFrame'>\n",
      "Int64Index: 1650599 entries, 0 to 2783575\n",
      "Data columns (total 7 columns):\n",
      "Unnamed: 0      1650599 non-null object\n",
      "Unnamed: 0.1    135474 non-null object\n",
      "cashtags        1650586 non-null object\n",
      "hashtags        1650586 non-null object\n",
      "id              1650599 non-null object\n",
      "time            1650599 non-null object\n",
      "tweet           1650599 non-null object\n",
      "dtypes: object(7)\n",
      "memory usage: 100.7+ MB\n"
     ]
    }
   ],
   "source": [
    "df_new.info(null_counts=True)"
   ]
  },
  {
   "cell_type": "code",
   "execution_count": 10,
   "metadata": {},
   "outputs": [
    {
     "data": {
      "text/plain": [
       "True"
      ]
     },
     "execution_count": 10,
     "metadata": {},
     "output_type": "execute_result"
    }
   ],
   "source": [
    "df_new.isnull().any().any() "
   ]
  },
  {
   "cell_type": "code",
   "execution_count": 11,
   "metadata": {},
   "outputs": [
    {
     "name": "stderr",
     "output_type": "stream",
     "text": [
      "/Users/anneb/anaconda3/lib/python3.7/site-packages/ipykernel_launcher.py:1: SettingWithCopyWarning: \n",
      "A value is trying to be set on a copy of a slice from a DataFrame.\n",
      "Try using .loc[row_indexer,col_indexer] = value instead\n",
      "\n",
      "See the caveats in the documentation: http://pandas.pydata.org/pandas-docs/stable/indexing.html#indexing-view-versus-copy\n",
      "  \"\"\"Entry point for launching an IPython kernel.\n"
     ]
    }
   ],
   "source": [
    "df_new['clean_tweet'] = df_new['tweet'].apply(lambda x: ' '.join([item for item in x.split() if item not in stopwords])) "
   ]
  },
  {
   "cell_type": "code",
   "execution_count": 12,
   "metadata": {},
   "outputs": [
    {
     "data": {
      "text/html": [
       "<div>\n",
       "<style scoped>\n",
       "    .dataframe tbody tr th:only-of-type {\n",
       "        vertical-align: middle;\n",
       "    }\n",
       "\n",
       "    .dataframe tbody tr th {\n",
       "        vertical-align: top;\n",
       "    }\n",
       "\n",
       "    .dataframe thead th {\n",
       "        text-align: right;\n",
       "    }\n",
       "</style>\n",
       "<table border=\"1\" class=\"dataframe\">\n",
       "  <thead>\n",
       "    <tr style=\"text-align: right;\">\n",
       "      <th></th>\n",
       "      <th>Unnamed: 0</th>\n",
       "      <th>Unnamed: 0.1</th>\n",
       "      <th>cashtags</th>\n",
       "      <th>hashtags</th>\n",
       "      <th>id</th>\n",
       "      <th>time</th>\n",
       "      <th>tweet</th>\n",
       "      <th>clean_tweet</th>\n",
       "    </tr>\n",
       "  </thead>\n",
       "  <tbody>\n",
       "    <tr>\n",
       "      <th>0</th>\n",
       "      <td>0</td>\n",
       "      <td>0</td>\n",
       "      <td>[]</td>\n",
       "      <td>[]</td>\n",
       "      <td>1.15135E+18</td>\n",
       "      <td>21:25:13</td>\n",
       "      <td>Wow, my dad yday: “you don’t take those stupid...</td>\n",
       "      <td>Wow, dad yday: “you don’t take stupid depressi...</td>\n",
       "    </tr>\n",
       "    <tr>\n",
       "      <th>1</th>\n",
       "      <td>1</td>\n",
       "      <td>1</td>\n",
       "      <td>[]</td>\n",
       "      <td>[]</td>\n",
       "      <td>1.15135E+18</td>\n",
       "      <td>21:25:07</td>\n",
       "      <td>what part of this was really harmfult of a lot...</td>\n",
       "      <td>part really harmfult lot people went every gui...</td>\n",
       "    </tr>\n",
       "    <tr>\n",
       "      <th>2</th>\n",
       "      <td>2</td>\n",
       "      <td>2</td>\n",
       "      <td>[]</td>\n",
       "      <td>['#depression', '#uncoveringthenewu', '#change...</td>\n",
       "      <td>1.15135E+18</td>\n",
       "      <td>21:25:06</td>\n",
       "      <td>one of the ways I got through my #depression i...</td>\n",
       "      <td>one ways I got #depression learning dance rain...</td>\n",
       "    </tr>\n",
       "    <tr>\n",
       "      <th>3</th>\n",
       "      <td>3</td>\n",
       "      <td>3</td>\n",
       "      <td>[]</td>\n",
       "      <td>[]</td>\n",
       "      <td>1.15135E+18</td>\n",
       "      <td>21:24:55</td>\n",
       "      <td>see i wanna do one of them but they all say th...</td>\n",
       "      <td>see wanna one say PTSD, depression, and/or anx...</td>\n",
       "    </tr>\n",
       "    <tr>\n",
       "      <th>4</th>\n",
       "      <td>4</td>\n",
       "      <td>4</td>\n",
       "      <td>[]</td>\n",
       "      <td>[]</td>\n",
       "      <td>1.15135E+18</td>\n",
       "      <td>21:24:51</td>\n",
       "      <td>IS IT clinical depression or is it the palpabl...</td>\n",
       "      <td>IS IT clinical depression palpable hopelessnes...</td>\n",
       "    </tr>\n",
       "  </tbody>\n",
       "</table>\n",
       "</div>"
      ],
      "text/plain": [
       "  Unnamed: 0 Unnamed: 0.1 cashtags  \\\n",
       "0          0            0       []   \n",
       "1          1            1       []   \n",
       "2          2            2       []   \n",
       "3          3            3       []   \n",
       "4          4            4       []   \n",
       "\n",
       "                                            hashtags           id      time  \\\n",
       "0                                                 []  1.15135E+18  21:25:13   \n",
       "1                                                 []  1.15135E+18  21:25:07   \n",
       "2  ['#depression', '#uncoveringthenewu', '#change...  1.15135E+18  21:25:06   \n",
       "3                                                 []  1.15135E+18  21:24:55   \n",
       "4                                                 []  1.15135E+18  21:24:51   \n",
       "\n",
       "                                               tweet  \\\n",
       "0  Wow, my dad yday: “you don’t take those stupid...   \n",
       "1  what part of this was really harmfult of a lot...   \n",
       "2  one of the ways I got through my #depression i...   \n",
       "3  see i wanna do one of them but they all say th...   \n",
       "4  IS IT clinical depression or is it the palpabl...   \n",
       "\n",
       "                                         clean_tweet  \n",
       "0  Wow, dad yday: “you don’t take stupid depressi...  \n",
       "1  part really harmfult lot people went every gui...  \n",
       "2  one ways I got #depression learning dance rain...  \n",
       "3  see wanna one say PTSD, depression, and/or anx...  \n",
       "4  IS IT clinical depression palpable hopelessnes...  "
      ]
     },
     "execution_count": 12,
     "metadata": {},
     "output_type": "execute_result"
    }
   ],
   "source": [
    "df_new.head()"
   ]
  },
  {
   "cell_type": "code",
   "execution_count": 13,
   "metadata": {},
   "outputs": [
    {
     "name": "stderr",
     "output_type": "stream",
     "text": [
      "/Users/anneb/anaconda3/lib/python3.7/site-packages/ipykernel_launcher.py:1: SettingWithCopyWarning: \n",
      "A value is trying to be set on a copy of a slice from a DataFrame.\n",
      "Try using .loc[row_indexer,col_indexer] = value instead\n",
      "\n",
      "See the caveats in the documentation: http://pandas.pydata.org/pandas-docs/stable/indexing.html#indexing-view-versus-copy\n",
      "  \"\"\"Entry point for launching an IPython kernel.\n"
     ]
    }
   ],
   "source": [
    "df_new['vader_score'] = df_new['clean_tweet'].apply(lambda x: analyzer.polarity_scores(x)['compound'])"
   ]
  },
  {
   "cell_type": "code",
   "execution_count": 14,
   "metadata": {},
   "outputs": [
    {
     "data": {
      "text/html": [
       "<div>\n",
       "<style scoped>\n",
       "    .dataframe tbody tr th:only-of-type {\n",
       "        vertical-align: middle;\n",
       "    }\n",
       "\n",
       "    .dataframe tbody tr th {\n",
       "        vertical-align: top;\n",
       "    }\n",
       "\n",
       "    .dataframe thead th {\n",
       "        text-align: right;\n",
       "    }\n",
       "</style>\n",
       "<table border=\"1\" class=\"dataframe\">\n",
       "  <thead>\n",
       "    <tr style=\"text-align: right;\">\n",
       "      <th></th>\n",
       "      <th>Unnamed: 0</th>\n",
       "      <th>Unnamed: 0.1</th>\n",
       "      <th>cashtags</th>\n",
       "      <th>hashtags</th>\n",
       "      <th>id</th>\n",
       "      <th>time</th>\n",
       "      <th>tweet</th>\n",
       "      <th>clean_tweet</th>\n",
       "      <th>vader_score</th>\n",
       "    </tr>\n",
       "  </thead>\n",
       "  <tbody>\n",
       "    <tr>\n",
       "      <th>0</th>\n",
       "      <td>0</td>\n",
       "      <td>0</td>\n",
       "      <td>[]</td>\n",
       "      <td>[]</td>\n",
       "      <td>1.15135E+18</td>\n",
       "      <td>21:25:13</td>\n",
       "      <td>Wow, my dad yday: “you don’t take those stupid...</td>\n",
       "      <td>Wow, dad yday: “you don’t take stupid depressi...</td>\n",
       "      <td>-0.4122</td>\n",
       "    </tr>\n",
       "    <tr>\n",
       "      <th>1</th>\n",
       "      <td>1</td>\n",
       "      <td>1</td>\n",
       "      <td>[]</td>\n",
       "      <td>[]</td>\n",
       "      <td>1.15135E+18</td>\n",
       "      <td>21:25:07</td>\n",
       "      <td>what part of this was really harmfult of a lot...</td>\n",
       "      <td>part really harmfult lot people went every gui...</td>\n",
       "      <td>-0.8074</td>\n",
       "    </tr>\n",
       "    <tr>\n",
       "      <th>2</th>\n",
       "      <td>2</td>\n",
       "      <td>2</td>\n",
       "      <td>[]</td>\n",
       "      <td>['#depression', '#uncoveringthenewu', '#change...</td>\n",
       "      <td>1.15135E+18</td>\n",
       "      <td>21:25:06</td>\n",
       "      <td>one of the ways I got through my #depression i...</td>\n",
       "      <td>one ways I got #depression learning dance rain...</td>\n",
       "      <td>0.7263</td>\n",
       "    </tr>\n",
       "    <tr>\n",
       "      <th>3</th>\n",
       "      <td>3</td>\n",
       "      <td>3</td>\n",
       "      <td>[]</td>\n",
       "      <td>[]</td>\n",
       "      <td>1.15135E+18</td>\n",
       "      <td>21:24:55</td>\n",
       "      <td>see i wanna do one of them but they all say th...</td>\n",
       "      <td>see wanna one say PTSD, depression, and/or anx...</td>\n",
       "      <td>-0.4588</td>\n",
       "    </tr>\n",
       "    <tr>\n",
       "      <th>4</th>\n",
       "      <td>4</td>\n",
       "      <td>4</td>\n",
       "      <td>[]</td>\n",
       "      <td>[]</td>\n",
       "      <td>1.15135E+18</td>\n",
       "      <td>21:24:51</td>\n",
       "      <td>IS IT clinical depression or is it the palpabl...</td>\n",
       "      <td>IS IT clinical depression palpable hopelessnes...</td>\n",
       "      <td>-0.8316</td>\n",
       "    </tr>\n",
       "  </tbody>\n",
       "</table>\n",
       "</div>"
      ],
      "text/plain": [
       "  Unnamed: 0 Unnamed: 0.1 cashtags  \\\n",
       "0          0            0       []   \n",
       "1          1            1       []   \n",
       "2          2            2       []   \n",
       "3          3            3       []   \n",
       "4          4            4       []   \n",
       "\n",
       "                                            hashtags           id      time  \\\n",
       "0                                                 []  1.15135E+18  21:25:13   \n",
       "1                                                 []  1.15135E+18  21:25:07   \n",
       "2  ['#depression', '#uncoveringthenewu', '#change...  1.15135E+18  21:25:06   \n",
       "3                                                 []  1.15135E+18  21:24:55   \n",
       "4                                                 []  1.15135E+18  21:24:51   \n",
       "\n",
       "                                               tweet  \\\n",
       "0  Wow, my dad yday: “you don’t take those stupid...   \n",
       "1  what part of this was really harmfult of a lot...   \n",
       "2  one of the ways I got through my #depression i...   \n",
       "3  see i wanna do one of them but they all say th...   \n",
       "4  IS IT clinical depression or is it the palpabl...   \n",
       "\n",
       "                                         clean_tweet  vader_score  \n",
       "0  Wow, dad yday: “you don’t take stupid depressi...      -0.4122  \n",
       "1  part really harmfult lot people went every gui...      -0.8074  \n",
       "2  one ways I got #depression learning dance rain...       0.7263  \n",
       "3  see wanna one say PTSD, depression, and/or anx...      -0.4588  \n",
       "4  IS IT clinical depression palpable hopelessnes...      -0.8316  "
      ]
     },
     "execution_count": 14,
     "metadata": {},
     "output_type": "execute_result"
    }
   ],
   "source": [
    "df_new.head()\n"
   ]
  },
  {
   "cell_type": "code",
   "execution_count": 15,
   "metadata": {},
   "outputs": [],
   "source": [
    "positive_num = len(df_new[df_new['vader_score'] >=0.05])\n",
    "#neutral_num = len(df_new[(df_new['vaderReviewScore'] >-0.05) & (df_new['vaderReviewScore']<0.05)])\n",
    "negative_num = len(df_new[df_new['vader_score']<0.05])"
   ]
  },
  {
   "cell_type": "code",
   "execution_count": 16,
   "metadata": {},
   "outputs": [
    {
     "data": {
      "text/plain": [
       "(42745, 1607854)"
      ]
     },
     "execution_count": 16,
     "metadata": {},
     "output_type": "execute_result"
    }
   ],
   "source": [
    "#positive_num,neutral_num, negative_num\n",
    "positive_num, negative_num"
   ]
  },
  {
   "cell_type": "code",
   "execution_count": 17,
   "metadata": {
    "scrolled": true
   },
   "outputs": [
    {
     "name": "stderr",
     "output_type": "stream",
     "text": [
      "/Users/anneb/anaconda3/lib/python3.7/site-packages/ipykernel_launcher.py:1: SettingWithCopyWarning: \n",
      "A value is trying to be set on a copy of a slice from a DataFrame.\n",
      "Try using .loc[row_indexer,col_indexer] = value instead\n",
      "\n",
      "See the caveats in the documentation: http://pandas.pydata.org/pandas-docs/stable/indexing.html#indexing-view-versus-copy\n",
      "  \"\"\"Entry point for launching an IPython kernel.\n"
     ]
    }
   ],
   "source": [
    "df_new['vader_sentiment_label']= df_new['vader_score'].map(lambda x:int(1) if x>=0.05 else int(0))"
   ]
  },
  {
   "cell_type": "code",
   "execution_count": 18,
   "metadata": {},
   "outputs": [
    {
     "data": {
      "text/html": [
       "<div>\n",
       "<style scoped>\n",
       "    .dataframe tbody tr th:only-of-type {\n",
       "        vertical-align: middle;\n",
       "    }\n",
       "\n",
       "    .dataframe tbody tr th {\n",
       "        vertical-align: top;\n",
       "    }\n",
       "\n",
       "    .dataframe thead th {\n",
       "        text-align: right;\n",
       "    }\n",
       "</style>\n",
       "<table border=\"1\" class=\"dataframe\">\n",
       "  <thead>\n",
       "    <tr style=\"text-align: right;\">\n",
       "      <th></th>\n",
       "      <th>Unnamed: 0</th>\n",
       "      <th>Unnamed: 0.1</th>\n",
       "      <th>cashtags</th>\n",
       "      <th>hashtags</th>\n",
       "      <th>id</th>\n",
       "      <th>time</th>\n",
       "      <th>tweet</th>\n",
       "      <th>clean_tweet</th>\n",
       "      <th>vader_score</th>\n",
       "      <th>vader_sentiment_label</th>\n",
       "    </tr>\n",
       "  </thead>\n",
       "  <tbody>\n",
       "    <tr>\n",
       "      <th>0</th>\n",
       "      <td>0</td>\n",
       "      <td>0</td>\n",
       "      <td>[]</td>\n",
       "      <td>[]</td>\n",
       "      <td>1.15135E+18</td>\n",
       "      <td>21:25:13</td>\n",
       "      <td>Wow, my dad yday: “you don’t take those stupid...</td>\n",
       "      <td>Wow, dad yday: “you don’t take stupid depressi...</td>\n",
       "      <td>-0.4122</td>\n",
       "      <td>0</td>\n",
       "    </tr>\n",
       "    <tr>\n",
       "      <th>1</th>\n",
       "      <td>1</td>\n",
       "      <td>1</td>\n",
       "      <td>[]</td>\n",
       "      <td>[]</td>\n",
       "      <td>1.15135E+18</td>\n",
       "      <td>21:25:07</td>\n",
       "      <td>what part of this was really harmfult of a lot...</td>\n",
       "      <td>part really harmfult lot people went every gui...</td>\n",
       "      <td>-0.8074</td>\n",
       "      <td>0</td>\n",
       "    </tr>\n",
       "    <tr>\n",
       "      <th>2</th>\n",
       "      <td>2</td>\n",
       "      <td>2</td>\n",
       "      <td>[]</td>\n",
       "      <td>['#depression', '#uncoveringthenewu', '#change...</td>\n",
       "      <td>1.15135E+18</td>\n",
       "      <td>21:25:06</td>\n",
       "      <td>one of the ways I got through my #depression i...</td>\n",
       "      <td>one ways I got #depression learning dance rain...</td>\n",
       "      <td>0.7263</td>\n",
       "      <td>1</td>\n",
       "    </tr>\n",
       "    <tr>\n",
       "      <th>3</th>\n",
       "      <td>3</td>\n",
       "      <td>3</td>\n",
       "      <td>[]</td>\n",
       "      <td>[]</td>\n",
       "      <td>1.15135E+18</td>\n",
       "      <td>21:24:55</td>\n",
       "      <td>see i wanna do one of them but they all say th...</td>\n",
       "      <td>see wanna one say PTSD, depression, and/or anx...</td>\n",
       "      <td>-0.4588</td>\n",
       "      <td>0</td>\n",
       "    </tr>\n",
       "    <tr>\n",
       "      <th>4</th>\n",
       "      <td>4</td>\n",
       "      <td>4</td>\n",
       "      <td>[]</td>\n",
       "      <td>[]</td>\n",
       "      <td>1.15135E+18</td>\n",
       "      <td>21:24:51</td>\n",
       "      <td>IS IT clinical depression or is it the palpabl...</td>\n",
       "      <td>IS IT clinical depression palpable hopelessnes...</td>\n",
       "      <td>-0.8316</td>\n",
       "      <td>0</td>\n",
       "    </tr>\n",
       "  </tbody>\n",
       "</table>\n",
       "</div>"
      ],
      "text/plain": [
       "  Unnamed: 0 Unnamed: 0.1 cashtags  \\\n",
       "0          0            0       []   \n",
       "1          1            1       []   \n",
       "2          2            2       []   \n",
       "3          3            3       []   \n",
       "4          4            4       []   \n",
       "\n",
       "                                            hashtags           id      time  \\\n",
       "0                                                 []  1.15135E+18  21:25:13   \n",
       "1                                                 []  1.15135E+18  21:25:07   \n",
       "2  ['#depression', '#uncoveringthenewu', '#change...  1.15135E+18  21:25:06   \n",
       "3                                                 []  1.15135E+18  21:24:55   \n",
       "4                                                 []  1.15135E+18  21:24:51   \n",
       "\n",
       "                                               tweet  \\\n",
       "0  Wow, my dad yday: “you don’t take those stupid...   \n",
       "1  what part of this was really harmfult of a lot...   \n",
       "2  one of the ways I got through my #depression i...   \n",
       "3  see i wanna do one of them but they all say th...   \n",
       "4  IS IT clinical depression or is it the palpabl...   \n",
       "\n",
       "                                         clean_tweet  vader_score  \\\n",
       "0  Wow, dad yday: “you don’t take stupid depressi...      -0.4122   \n",
       "1  part really harmfult lot people went every gui...      -0.8074   \n",
       "2  one ways I got #depression learning dance rain...       0.7263   \n",
       "3  see wanna one say PTSD, depression, and/or anx...      -0.4588   \n",
       "4  IS IT clinical depression palpable hopelessnes...      -0.8316   \n",
       "\n",
       "   vader_sentiment_label  \n",
       "0                      0  \n",
       "1                      0  \n",
       "2                      1  \n",
       "3                      0  \n",
       "4                      0  "
      ]
     },
     "execution_count": 18,
     "metadata": {},
     "output_type": "execute_result"
    }
   ],
   "source": [
    "df_new.head()"
   ]
  },
  {
   "cell_type": "code",
   "execution_count": 19,
   "metadata": {},
   "outputs": [],
   "source": [
    "#df_new.loc[df_new['vaderReviewScore'] >=0.00,\"vaderSentimentLabel\"] = 1\n",
    "#df_new.loc[df_new['vaderReviewScore']<=-0.00,\"vaderSentimentLabel\"] = 0"
   ]
  },
  {
   "cell_type": "code",
   "execution_count": 20,
   "metadata": {
    "scrolled": false
   },
   "outputs": [
    {
     "data": {
      "text/html": [
       "<div>\n",
       "<style scoped>\n",
       "    .dataframe tbody tr th:only-of-type {\n",
       "        vertical-align: middle;\n",
       "    }\n",
       "\n",
       "    .dataframe tbody tr th {\n",
       "        vertical-align: top;\n",
       "    }\n",
       "\n",
       "    .dataframe thead th {\n",
       "        text-align: right;\n",
       "    }\n",
       "</style>\n",
       "<table border=\"1\" class=\"dataframe\">\n",
       "  <thead>\n",
       "    <tr style=\"text-align: right;\">\n",
       "      <th></th>\n",
       "      <th>Unnamed: 0</th>\n",
       "      <th>Unnamed: 0.1</th>\n",
       "      <th>cashtags</th>\n",
       "      <th>hashtags</th>\n",
       "      <th>id</th>\n",
       "      <th>time</th>\n",
       "      <th>tweet</th>\n",
       "      <th>clean_tweet</th>\n",
       "      <th>vader_score</th>\n",
       "      <th>vader_sentiment_label</th>\n",
       "    </tr>\n",
       "  </thead>\n",
       "  <tbody>\n",
       "    <tr>\n",
       "      <th>0</th>\n",
       "      <td>0</td>\n",
       "      <td>0</td>\n",
       "      <td>[]</td>\n",
       "      <td>[]</td>\n",
       "      <td>1.15135E+18</td>\n",
       "      <td>21:25:13</td>\n",
       "      <td>Wow, my dad yday: “you don’t take those stupid...</td>\n",
       "      <td>Wow, dad yday: “you don’t take stupid depressi...</td>\n",
       "      <td>-0.4122</td>\n",
       "      <td>0</td>\n",
       "    </tr>\n",
       "    <tr>\n",
       "      <th>1</th>\n",
       "      <td>1</td>\n",
       "      <td>1</td>\n",
       "      <td>[]</td>\n",
       "      <td>[]</td>\n",
       "      <td>1.15135E+18</td>\n",
       "      <td>21:25:07</td>\n",
       "      <td>what part of this was really harmfult of a lot...</td>\n",
       "      <td>part really harmfult lot people went every gui...</td>\n",
       "      <td>-0.8074</td>\n",
       "      <td>0</td>\n",
       "    </tr>\n",
       "    <tr>\n",
       "      <th>2</th>\n",
       "      <td>2</td>\n",
       "      <td>2</td>\n",
       "      <td>[]</td>\n",
       "      <td>['#depression', '#uncoveringthenewu', '#change...</td>\n",
       "      <td>1.15135E+18</td>\n",
       "      <td>21:25:06</td>\n",
       "      <td>one of the ways I got through my #depression i...</td>\n",
       "      <td>one ways I got #depression learning dance rain...</td>\n",
       "      <td>0.7263</td>\n",
       "      <td>1</td>\n",
       "    </tr>\n",
       "    <tr>\n",
       "      <th>3</th>\n",
       "      <td>3</td>\n",
       "      <td>3</td>\n",
       "      <td>[]</td>\n",
       "      <td>[]</td>\n",
       "      <td>1.15135E+18</td>\n",
       "      <td>21:24:55</td>\n",
       "      <td>see i wanna do one of them but they all say th...</td>\n",
       "      <td>see wanna one say PTSD, depression, and/or anx...</td>\n",
       "      <td>-0.4588</td>\n",
       "      <td>0</td>\n",
       "    </tr>\n",
       "    <tr>\n",
       "      <th>4</th>\n",
       "      <td>4</td>\n",
       "      <td>4</td>\n",
       "      <td>[]</td>\n",
       "      <td>[]</td>\n",
       "      <td>1.15135E+18</td>\n",
       "      <td>21:24:51</td>\n",
       "      <td>IS IT clinical depression or is it the palpabl...</td>\n",
       "      <td>IS IT clinical depression palpable hopelessnes...</td>\n",
       "      <td>-0.8316</td>\n",
       "      <td>0</td>\n",
       "    </tr>\n",
       "  </tbody>\n",
       "</table>\n",
       "</div>"
      ],
      "text/plain": [
       "  Unnamed: 0 Unnamed: 0.1 cashtags  \\\n",
       "0          0            0       []   \n",
       "1          1            1       []   \n",
       "2          2            2       []   \n",
       "3          3            3       []   \n",
       "4          4            4       []   \n",
       "\n",
       "                                            hashtags           id      time  \\\n",
       "0                                                 []  1.15135E+18  21:25:13   \n",
       "1                                                 []  1.15135E+18  21:25:07   \n",
       "2  ['#depression', '#uncoveringthenewu', '#change...  1.15135E+18  21:25:06   \n",
       "3                                                 []  1.15135E+18  21:24:55   \n",
       "4                                                 []  1.15135E+18  21:24:51   \n",
       "\n",
       "                                               tweet  \\\n",
       "0  Wow, my dad yday: “you don’t take those stupid...   \n",
       "1  what part of this was really harmfult of a lot...   \n",
       "2  one of the ways I got through my #depression i...   \n",
       "3  see i wanna do one of them but they all say th...   \n",
       "4  IS IT clinical depression or is it the palpabl...   \n",
       "\n",
       "                                         clean_tweet  vader_score  \\\n",
       "0  Wow, dad yday: “you don’t take stupid depressi...      -0.4122   \n",
       "1  part really harmfult lot people went every gui...      -0.8074   \n",
       "2  one ways I got #depression learning dance rain...       0.7263   \n",
       "3  see wanna one say PTSD, depression, and/or anx...      -0.4588   \n",
       "4  IS IT clinical depression palpable hopelessnes...      -0.8316   \n",
       "\n",
       "   vader_sentiment_label  \n",
       "0                      0  \n",
       "1                      0  \n",
       "2                      1  \n",
       "3                      0  \n",
       "4                      0  "
      ]
     },
     "execution_count": 20,
     "metadata": {},
     "output_type": "execute_result"
    }
   ],
   "source": [
    "df_new.head()"
   ]
  },
  {
   "cell_type": "code",
   "execution_count": 22,
   "metadata": {},
   "outputs": [
    {
     "name": "stderr",
     "output_type": "stream",
     "text": [
      "/Users/anneb/anaconda3/lib/python3.7/site-packages/pandas/core/frame.py:3940: SettingWithCopyWarning: \n",
      "A value is trying to be set on a copy of a slice from a DataFrame\n",
      "\n",
      "See the caveats in the documentation: http://pandas.pydata.org/pandas-docs/stable/indexing.html#indexing-view-versus-copy\n",
      "  errors=errors)\n"
     ]
    }
   ],
   "source": [
    "df_new.drop(['Unnamed: 0.1', 'id', 'time', 'tweet', ], axis = 1, inplace = True)"
   ]
  },
  {
   "cell_type": "code",
   "execution_count": 24,
   "metadata": {},
   "outputs": [],
   "source": [
    "df_new = df_new[['Unnamed: 0', 'vader_sentiment_label', 'vader_score', 'clean_tweet']]"
   ]
  },
  {
   "cell_type": "code",
   "execution_count": 25,
   "metadata": {},
   "outputs": [
    {
     "data": {
      "text/html": [
       "<div>\n",
       "<style scoped>\n",
       "    .dataframe tbody tr th:only-of-type {\n",
       "        vertical-align: middle;\n",
       "    }\n",
       "\n",
       "    .dataframe tbody tr th {\n",
       "        vertical-align: top;\n",
       "    }\n",
       "\n",
       "    .dataframe thead th {\n",
       "        text-align: right;\n",
       "    }\n",
       "</style>\n",
       "<table border=\"1\" class=\"dataframe\">\n",
       "  <thead>\n",
       "    <tr style=\"text-align: right;\">\n",
       "      <th></th>\n",
       "      <th>Unnamed: 0</th>\n",
       "      <th>vader_sentiment_label</th>\n",
       "      <th>vader_score</th>\n",
       "      <th>clean_tweet</th>\n",
       "    </tr>\n",
       "  </thead>\n",
       "  <tbody>\n",
       "    <tr>\n",
       "      <th>0</th>\n",
       "      <td>0</td>\n",
       "      <td>0</td>\n",
       "      <td>-0.4122</td>\n",
       "      <td>Wow, dad yday: “you don’t take stupid depressi...</td>\n",
       "    </tr>\n",
       "    <tr>\n",
       "      <th>1</th>\n",
       "      <td>1</td>\n",
       "      <td>0</td>\n",
       "      <td>-0.8074</td>\n",
       "      <td>part really harmfult lot people went every gui...</td>\n",
       "    </tr>\n",
       "    <tr>\n",
       "      <th>2</th>\n",
       "      <td>2</td>\n",
       "      <td>1</td>\n",
       "      <td>0.7263</td>\n",
       "      <td>one ways I got #depression learning dance rain...</td>\n",
       "    </tr>\n",
       "    <tr>\n",
       "      <th>3</th>\n",
       "      <td>3</td>\n",
       "      <td>0</td>\n",
       "      <td>-0.4588</td>\n",
       "      <td>see wanna one say PTSD, depression, and/or anx...</td>\n",
       "    </tr>\n",
       "    <tr>\n",
       "      <th>4</th>\n",
       "      <td>4</td>\n",
       "      <td>0</td>\n",
       "      <td>-0.8316</td>\n",
       "      <td>IS IT clinical depression palpable hopelessnes...</td>\n",
       "    </tr>\n",
       "  </tbody>\n",
       "</table>\n",
       "</div>"
      ],
      "text/plain": [
       "  Unnamed: 0  vader_sentiment_label  vader_score  \\\n",
       "0          0                      0      -0.4122   \n",
       "1          1                      0      -0.8074   \n",
       "2          2                      1       0.7263   \n",
       "3          3                      0      -0.4588   \n",
       "4          4                      0      -0.8316   \n",
       "\n",
       "                                         clean_tweet  \n",
       "0  Wow, dad yday: “you don’t take stupid depressi...  \n",
       "1  part really harmfult lot people went every gui...  \n",
       "2  one ways I got #depression learning dance rain...  \n",
       "3  see wanna one say PTSD, depression, and/or anx...  \n",
       "4  IS IT clinical depression palpable hopelessnes...  "
      ]
     },
     "execution_count": 25,
     "metadata": {},
     "output_type": "execute_result"
    }
   ],
   "source": [
    "df_new.head()"
   ]
  },
  {
   "cell_type": "code",
   "execution_count": 170,
   "metadata": {},
   "outputs": [],
   "source": [
    "positive_num = len(df_new[df_new['vader_score'] >=0.05])\n",
    "neutral_num = len(df_new[(df_new['vader_score'] >-0.05) & (df_new['vader_score']<0.05)])\n",
    "negative_num = len(df_new[df_new['vader_score']<=-0.05])"
   ]
  },
  {
   "cell_type": "code",
   "execution_count": 27,
   "metadata": {},
   "outputs": [
    {
     "data": {
      "text/plain": [
       "(42745, 1493208, 114646)"
      ]
     },
     "execution_count": 27,
     "metadata": {},
     "output_type": "execute_result"
    }
   ],
   "source": [
    "positive_num,neutral_num, negative_num"
   ]
  },
  {
   "cell_type": "code",
   "execution_count": 28,
   "metadata": {},
   "outputs": [],
   "source": [
    "df_new.to_csv('vader_processed_final.csv')"
   ]
  },
  {
   "cell_type": "code",
   "execution_count": null,
   "metadata": {},
   "outputs": [],
   "source": []
  },
  {
   "cell_type": "code",
   "execution_count": 73,
   "metadata": {},
   "outputs": [],
   "source": [
    "import pandas as pd\n",
    "import numpy as np\n",
    "import matplotlib.pyplot as plt\n",
    "import seaborn as sns\n",
    "import itertools\n",
    "import collections\n",
    "\n",
    "import nltk\n",
    "from nltk.corpus import stopwords\n",
    "import re\n",
    "from nltk import bigrams\n",
    "import networkx as nx\n",
    "\n",
    "import warnings\n",
    "warnings.filterwarnings(\"ignore\")\n",
    "\n",
    "sns.set(font_scale=1.5)\n",
    "sns.set_style(\"whitegrid\")"
   ]
  },
  {
   "cell_type": "code",
   "execution_count": 42,
   "metadata": {},
   "outputs": [],
   "source": [
    "df_new['text'] = df_new['clean_tweet']"
   ]
  },
  {
   "cell_type": "code",
   "execution_count": 44,
   "metadata": {},
   "outputs": [
    {
     "data": {
      "text/plain": [
       "0          Wow, dad yday: “you don’t take stupid depressi...\n",
       "1          part really harmfult lot people went every gui...\n",
       "2          one ways I got #depression learning dance rain...\n",
       "3          see wanna one say PTSD, depression, and/or anx...\n",
       "4          IS IT clinical depression palpable hopelessnes...\n",
       "5          My new mantra dealing anxiety/depression overa...\n",
       "6          Can I get woot woot 3 months depression medica...\n",
       "7          Hope working you. I sertraline year helped dep...\n",
       "8          When depression anxiety strike time I can’t an...\n",
       "9          I want leave, I'm still waiting legalize Assis...\n",
       "10                                    lrt FUCKING DEPRESSION\n",
       "11         If you’re new mother tired postpartum depressi...\n",
       "12         Currently 5:23 I’ve got depression Rangers cou...\n",
       "13         omg wish I could swim cause I'm gonna drown de...\n",
       "14         I don’t talk much unless you’re close FUCK anx...\n",
       "15         🚨🚨🚨 If someone help suggesting I respond/say/w...\n",
       "16         luv 2 start crying bc thinking ur ex amazing i...\n",
       "17                yOu cAnT hUrT mE DePrEsSiOn GoT mE AlReAdY\n",
       "18             The free market cab cure depression, cut eye!\n",
       "19         I’m steeped enough research strong professiona...\n",
       "20         I feel like I can’t work two three days withou...\n",
       "21         dvdRadio 102 Still looking title. (That title....\n",
       "22         Do recommend every kind depression like heartb...\n",
       "23         I bad day depressed. My 4 year old came me, pu...\n",
       "24         completely makes sense tho survival mechanism ...\n",
       "25         For example top know deal submissive depressed...\n",
       "26         So. Here short skinny lately. I know know I've...\n",
       "27         someone points crippling anxiety depression ah...\n",
       "28         No one: Literally one: Clair Boucher/ム尺ﾉﾶ乇丂: M...\n",
       "29         As platoon leader I deal often I want to. One ...\n",
       "                                 ...                        \n",
       "2783546    Suicide oyster noble way go https://twitter.co...\n",
       "2783547    floors covered water, obviously clean store cl...\n",
       "2783548    That's depressingly relatable perspective. As ...\n",
       "2783549    @glitterndior https://twitter.com/DankNeme/sta...\n",
       "2783550    TW suicide fatphobia. My mom severe pain one h...\n",
       "2783551    « Le professeur meurt et Tokyo se suicide » jl...\n",
       "2783552    Telling gay youth choices suicide, exile commu...\n",
       "2783553                    Tokyo tue professor et se suicide\n",
       "2783554                                   suicide's time :))\n",
       "2783555    For Those Considering Suicide https://youtu.be...\n",
       "2783556    Tf suicide isn’t joke https://twitter.com/lenr...\n",
       "2783557    It always brings mind “body bag suicide” case ...\n",
       "2783558    You live go fucking nuts!Go! #SuicideSilence #...\n",
       "2783559           cant wait entrap woman web violence deceit\n",
       "2783560                                             고마웠었어 #€\n",
       "2783561          The “Clinton Suicide Squad “ gearing speak.\n",
       "2783562    Last Monday I tell client benefits delayed, AG...\n",
       "2783563    http://bit.ly/MurderOfTalent Why public willin...\n",
       "2783564    戸塚：電車の車内でケータイが鳴った一八木さんが「いま電話の中だから電車切るぞ」って言ってケー...\n",
       "2783565                   y'a pas d'incruste ti é la famille\n",
       "2783566    A study use CCTV certain locations see behavio...\n",
       "2783567    Since I reminded today, everyone please block ...\n",
       "2783568    Mariko quick favorite me. I'm glad recovered t...\n",
       "2783569                           pic.twitter.com/sm9tNmrEQJ\n",
       "2783570    https://youtu.be/WJ0OkkIDZug Deathnote real FB...\n",
       "2783571                     えっ？！オニィ結構なお歳……（今知った） 変な声でちゃった(笑)\n",
       "2783572    #PhysicianFriday \"Let's empower doctors take t...\n",
       "2783573    A spike suicides among teenage boys United Sta...\n",
       "2783574    Need support? Check following resources: Couns...\n",
       "2783575    You improve quality life friend need. Learn Me...\n",
       "Name: text, Length: 1650599, dtype: object"
      ]
     },
     "execution_count": 44,
     "metadata": {},
     "output_type": "execute_result"
    }
   ],
   "source": [
    "df_new['text']"
   ]
  },
  {
   "cell_type": "code",
   "execution_count": 45,
   "metadata": {},
   "outputs": [],
   "source": [
    "def remove_url(txt):\n",
    "    \"\"\"Replace URLs found in a text string with nothing \n",
    "    (i.e. it will remove the URL from the string).\n",
    "\n",
    "    Parameters\n",
    "    ----------\n",
    "    txt : string\n",
    "        A text string that you want to parse and remove urls.\n",
    "\n",
    "    Returns\n",
    "    -------\n",
    "    The same txt string with url's removed.\n",
    "    \"\"\"\n",
    "\n",
    "    return \" \".join(re.sub(\"([^0-9A-Za-z \\t])|(\\w+:\\/\\/\\S+)\", \"\", txt).split())"
   ]
  },
  {
   "cell_type": "code",
   "execution_count": 48,
   "metadata": {},
   "outputs": [
    {
     "data": {
      "text/plain": [
       "['Wow dad yday you dont take stupid depression drugs anymore though you Because theyre absolute worst thing and never need them Aint great family supportive My moms sisters stance similar btw',\n",
       " 'part really harmfult lot people went every guideline understand 13rw horror show supposed insight depression mental illness overall helpful public narrative topic',\n",
       " 'one ways I got depression learning dance rain It source strength stronger circumstances UncoveringthenewU ChangeYourMindChangeYourCircumstances pictwittercom3vxKuQ0DvD',\n",
       " 'see wanna one say PTSD depression andor anxiety play LIKEE',\n",
       " 'IS IT clinical depression palpable hopelessness generation']"
      ]
     },
     "execution_count": 48,
     "metadata": {},
     "output_type": "execute_result"
    }
   ],
   "source": [
    "all_tweets_no_urls = [remove_url(tweet) for tweet in df_new['text']]\n",
    "all_tweets_no_urls[:5]"
   ]
  },
  {
   "cell_type": "code",
   "execution_count": 82,
   "metadata": {},
   "outputs": [],
   "source": [
    "#lower_case = [word.lower() for word in df_new['text']]\n",
    "sentences = df_new['text']"
   ]
  },
  {
   "cell_type": "code",
   "execution_count": 83,
   "metadata": {
    "scrolled": true
   },
   "outputs": [
    {
     "data": {
      "text/plain": [
       "['Wow',\n",
       " 'dad',\n",
       " 'yday',\n",
       " 'you',\n",
       " 'dont',\n",
       " 'take',\n",
       " 'stupid',\n",
       " 'depression',\n",
       " 'drugs',\n",
       " 'anymore',\n",
       " 'though',\n",
       " 'you',\n",
       " 'Because',\n",
       " 'theyre',\n",
       " 'absolute',\n",
       " 'worst',\n",
       " 'thing',\n",
       " 'and',\n",
       " 'never',\n",
       " 'need',\n",
       " 'them',\n",
       " 'Aint',\n",
       " 'great',\n",
       " 'family',\n",
       " 'supportive',\n",
       " 'My',\n",
       " 'moms',\n",
       " 'sisters',\n",
       " 'stance',\n",
       " 'similar',\n",
       " 'btw']"
      ]
     },
     "execution_count": 83,
     "metadata": {},
     "output_type": "execute_result"
    }
   ],
   "source": [
    "all_tweets_no_urls[0].split()"
   ]
  },
  {
   "cell_type": "code",
   "execution_count": 50,
   "metadata": {},
   "outputs": [
    {
     "data": {
      "text/plain": [
       "['wow',\n",
       " 'dad',\n",
       " 'yday',\n",
       " 'you',\n",
       " 'dont',\n",
       " 'take',\n",
       " 'stupid',\n",
       " 'depression',\n",
       " 'drugs',\n",
       " 'anymore',\n",
       " 'though',\n",
       " 'you',\n",
       " 'because',\n",
       " 'theyre',\n",
       " 'absolute',\n",
       " 'worst',\n",
       " 'thing',\n",
       " 'and',\n",
       " 'never',\n",
       " 'need',\n",
       " 'them',\n",
       " 'aint',\n",
       " 'great',\n",
       " 'family',\n",
       " 'supportive',\n",
       " 'my',\n",
       " 'moms',\n",
       " 'sisters',\n",
       " 'stance',\n",
       " 'similar',\n",
       " 'btw']"
      ]
     },
     "execution_count": 50,
     "metadata": {},
     "output_type": "execute_result"
    }
   ],
   "source": [
    "all_tweets_no_urls[0].lower().split()"
   ]
  },
  {
   "cell_type": "code",
   "execution_count": 51,
   "metadata": {},
   "outputs": [
    {
     "data": {
      "text/plain": [
       "[['wow',\n",
       "  'dad',\n",
       "  'yday',\n",
       "  'you',\n",
       "  'dont',\n",
       "  'take',\n",
       "  'stupid',\n",
       "  'depression',\n",
       "  'drugs',\n",
       "  'anymore',\n",
       "  'though',\n",
       "  'you',\n",
       "  'because',\n",
       "  'theyre',\n",
       "  'absolute',\n",
       "  'worst',\n",
       "  'thing',\n",
       "  'and',\n",
       "  'never',\n",
       "  'need',\n",
       "  'them',\n",
       "  'aint',\n",
       "  'great',\n",
       "  'family',\n",
       "  'supportive',\n",
       "  'my',\n",
       "  'moms',\n",
       "  'sisters',\n",
       "  'stance',\n",
       "  'similar',\n",
       "  'btw'],\n",
       " ['part',\n",
       "  'really',\n",
       "  'harmfult',\n",
       "  'lot',\n",
       "  'people',\n",
       "  'went',\n",
       "  'every',\n",
       "  'guideline',\n",
       "  'understand',\n",
       "  '13rw',\n",
       "  'horror',\n",
       "  'show',\n",
       "  'supposed',\n",
       "  'insight',\n",
       "  'depression',\n",
       "  'mental',\n",
       "  'illness',\n",
       "  'overall',\n",
       "  'helpful',\n",
       "  'public',\n",
       "  'narrative',\n",
       "  'topic']]"
      ]
     },
     "execution_count": 51,
     "metadata": {},
     "output_type": "execute_result"
    }
   ],
   "source": [
    "words_in_tweet = [tweet.lower().split() for tweet in all_tweets_no_urls]\n",
    "words_in_tweet[:2]"
   ]
  },
  {
   "cell_type": "code",
   "execution_count": 52,
   "metadata": {},
   "outputs": [
    {
     "data": {
      "text/plain": [
       "[('i', 65848),\n",
       " ('lonely', 55378),\n",
       " ('smile', 42634),\n",
       " ('wide', 42271),\n",
       " ('suicide', 39566),\n",
       " ('im', 29153),\n",
       " ('depression', 26013),\n",
       " ('like', 14866),\n",
       " ('depressed', 14064),\n",
       " ('people', 11913),\n",
       " ('hopeless', 11236),\n",
       " ('the', 10641),\n",
       " ('you', 10512),\n",
       " ('feel', 10500),\n",
       " ('its', 9617)]"
      ]
     },
     "execution_count": 52,
     "metadata": {},
     "output_type": "execute_result"
    }
   ],
   "source": [
    "# List of all words across tweets\n",
    "all_words_no_urls = list(itertools.chain(*words_in_tweet))\n",
    "\n",
    "# Create counter\n",
    "counts_no_urls = collections.Counter(all_words_no_urls)\n",
    "\n",
    "counts_no_urls.most_common(15)"
   ]
  },
  {
   "cell_type": "code",
   "execution_count": 53,
   "metadata": {},
   "outputs": [
    {
     "data": {
      "text/html": [
       "<div>\n",
       "<style scoped>\n",
       "    .dataframe tbody tr th:only-of-type {\n",
       "        vertical-align: middle;\n",
       "    }\n",
       "\n",
       "    .dataframe tbody tr th {\n",
       "        vertical-align: top;\n",
       "    }\n",
       "\n",
       "    .dataframe thead th {\n",
       "        text-align: right;\n",
       "    }\n",
       "</style>\n",
       "<table border=\"1\" class=\"dataframe\">\n",
       "  <thead>\n",
       "    <tr style=\"text-align: right;\">\n",
       "      <th></th>\n",
       "      <th>words</th>\n",
       "      <th>count</th>\n",
       "    </tr>\n",
       "  </thead>\n",
       "  <tbody>\n",
       "    <tr>\n",
       "      <th>0</th>\n",
       "      <td>i</td>\n",
       "      <td>65848</td>\n",
       "    </tr>\n",
       "    <tr>\n",
       "      <th>1</th>\n",
       "      <td>lonely</td>\n",
       "      <td>55378</td>\n",
       "    </tr>\n",
       "    <tr>\n",
       "      <th>2</th>\n",
       "      <td>smile</td>\n",
       "      <td>42634</td>\n",
       "    </tr>\n",
       "    <tr>\n",
       "      <th>3</th>\n",
       "      <td>wide</td>\n",
       "      <td>42271</td>\n",
       "    </tr>\n",
       "    <tr>\n",
       "      <th>4</th>\n",
       "      <td>suicide</td>\n",
       "      <td>39566</td>\n",
       "    </tr>\n",
       "  </tbody>\n",
       "</table>\n",
       "</div>"
      ],
      "text/plain": [
       "     words  count\n",
       "0        i  65848\n",
       "1   lonely  55378\n",
       "2    smile  42634\n",
       "3     wide  42271\n",
       "4  suicide  39566"
      ]
     },
     "execution_count": 53,
     "metadata": {},
     "output_type": "execute_result"
    }
   ],
   "source": [
    "clean_tweets_no_urls = pd.DataFrame(counts_no_urls.most_common(15),\n",
    "                             columns=['words', 'count'])\n",
    "\n",
    "clean_tweets_no_urls.head()"
   ]
  },
  {
   "cell_type": "code",
   "execution_count": 54,
   "metadata": {},
   "outputs": [
    {
     "data": {
      "image/png": "[encoded data removed]",
      "text/plain": [
       "<Figure size 576x576 with 1 Axes>"
      ]
     },
     "metadata": {
      "image/png": {
       "height": 493,
       "width": 629
      }
     },
     "output_type": "display_data"
    }
   ],
   "source": [
    "fig, ax = plt.subplots(figsize=(8, 8))\n",
    "\n",
    "# Plot horizontal bar graph\n",
    "clean_tweets_no_urls.sort_values(by='count').plot.barh(x='words',\n",
    "                      y='count',\n",
    "                      ax=ax,\n",
    "                      color=\"purple\")\n",
    "\n",
    "ax.set_title(\"Common Words Found in Tweets (Including All Words)\")\n",
    "\n",
    "plt.show()\n"
   ]
  },
  {
   "cell_type": "code",
   "execution_count": 56,
   "metadata": {},
   "outputs": [
    {
     "data": {
      "text/plain": [
       "['some',\n",
       " 'once',\n",
       " 'needn',\n",
       " 'an',\n",
       " \"shouldn't\",\n",
       " 'any',\n",
       " 'then',\n",
       " 'very',\n",
       " 'it',\n",
       " 'yourselves']"
      ]
     },
     "execution_count": 56,
     "metadata": {},
     "output_type": "execute_result"
    }
   ],
   "source": [
    "stop_words = set(stopwords.words('english'))\n",
    "\n",
    "# View a few words from the set\n",
    "list(stop_words)[0:10]"
   ]
  },
  {
   "cell_type": "code",
   "execution_count": 57,
   "metadata": {},
   "outputs": [
    {
     "data": {
      "text/plain": [
       "['wow',\n",
       " 'dad',\n",
       " 'yday',\n",
       " 'you',\n",
       " 'dont',\n",
       " 'take',\n",
       " 'stupid',\n",
       " 'depression',\n",
       " 'drugs',\n",
       " 'anymore',\n",
       " 'though',\n",
       " 'you',\n",
       " 'because',\n",
       " 'theyre',\n",
       " 'absolute',\n",
       " 'worst',\n",
       " 'thing',\n",
       " 'and',\n",
       " 'never',\n",
       " 'need',\n",
       " 'them',\n",
       " 'aint',\n",
       " 'great',\n",
       " 'family',\n",
       " 'supportive',\n",
       " 'my',\n",
       " 'moms',\n",
       " 'sisters',\n",
       " 'stance',\n",
       " 'similar',\n",
       " 'btw']"
      ]
     },
     "execution_count": 57,
     "metadata": {},
     "output_type": "execute_result"
    }
   ],
   "source": [
    "words_in_tweet[0]\n"
   ]
  },
  {
   "cell_type": "code",
   "execution_count": 58,
   "metadata": {},
   "outputs": [
    {
     "data": {
      "text/plain": [
       "['wow',\n",
       " 'dad',\n",
       " 'yday',\n",
       " 'dont',\n",
       " 'take',\n",
       " 'stupid',\n",
       " 'depression',\n",
       " 'drugs',\n",
       " 'anymore',\n",
       " 'though',\n",
       " 'theyre',\n",
       " 'absolute',\n",
       " 'worst',\n",
       " 'thing',\n",
       " 'never',\n",
       " 'need',\n",
       " 'aint',\n",
       " 'great',\n",
       " 'family',\n",
       " 'supportive',\n",
       " 'moms',\n",
       " 'sisters',\n",
       " 'stance',\n",
       " 'similar',\n",
       " 'btw']"
      ]
     },
     "execution_count": 58,
     "metadata": {},
     "output_type": "execute_result"
    }
   ],
   "source": [
    "# Remove stop words from each tweet list of words\n",
    "tweets_nsw = [[word for word in tweet_words if not word in stop_words]\n",
    "              for tweet_words in words_in_tweet]\n",
    "\n",
    "tweets_nsw[0]"
   ]
  },
  {
   "cell_type": "code",
   "execution_count": 59,
   "metadata": {},
   "outputs": [
    {
     "data": {
      "text/plain": [
       "[('lonely', 55378),\n",
       " ('smile', 42634),\n",
       " ('wide', 42271),\n",
       " ('suicide', 39566),\n",
       " ('im', 29153),\n",
       " ('depression', 26013),\n",
       " ('like', 14866),\n",
       " ('depressed', 14064),\n",
       " ('people', 11913),\n",
       " ('hopeless', 11236),\n",
       " ('feel', 10500),\n",
       " ('get', 8998),\n",
       " ('one', 8971),\n",
       " ('de', 8204),\n",
       " ('know', 8041)]"
      ]
     },
     "execution_count": 59,
     "metadata": {},
     "output_type": "execute_result"
    }
   ],
   "source": [
    "all_words_nsw = list(itertools.chain(*tweets_nsw))\n",
    "\n",
    "counts_nsw = collections.Counter(all_words_nsw)\n",
    "\n",
    "counts_nsw.most_common(15)"
   ]
  },
  {
   "cell_type": "code",
   "execution_count": 60,
   "metadata": {},
   "outputs": [
    {
     "data": {
      "image/png": "[encoded data removed]",
      "text/plain": [
       "<Figure size 576x576 with 1 Axes>"
      ]
     },
     "metadata": {
      "image/png": {
       "height": 493,
       "width": 629
      }
     },
     "output_type": "display_data"
    }
   ],
   "source": [
    "clean_tweets_nsw = pd.DataFrame(counts_nsw.most_common(15),\n",
    "                             columns=['words', 'count'])\n",
    "\n",
    "fig, ax = plt.subplots(figsize=(8, 8))\n",
    "\n",
    "# Plot horizontal bar graph\n",
    "clean_tweets_nsw.sort_values(by='count').plot.barh(x='words',\n",
    "                      y='count',\n",
    "                      ax=ax,\n",
    "                      color=\"purple\")\n",
    "\n",
    "ax.set_title(\"Common Words Found in Tweets (Without Stop Words)\")\n",
    "\n",
    "plt.show()"
   ]
  },
  {
   "cell_type": "code",
   "execution_count": 61,
   "metadata": {},
   "outputs": [],
   "source": [
    "collection_words = ['im', 'de', 'like', 'one']\n",
    "tweets_nsw_nc = [[w for w in word if not w in collection_words]\n",
    "                 for word in tweets_nsw]"
   ]
  },
  {
   "cell_type": "code",
   "execution_count": 62,
   "metadata": {},
   "outputs": [
    {
     "data": {
      "text/plain": [
       "['wow',\n",
       " 'dad',\n",
       " 'yday',\n",
       " 'dont',\n",
       " 'take',\n",
       " 'stupid',\n",
       " 'depression',\n",
       " 'drugs',\n",
       " 'anymore',\n",
       " 'though',\n",
       " 'theyre',\n",
       " 'absolute',\n",
       " 'worst',\n",
       " 'thing',\n",
       " 'never',\n",
       " 'need',\n",
       " 'aint',\n",
       " 'great',\n",
       " 'family',\n",
       " 'supportive',\n",
       " 'moms',\n",
       " 'sisters',\n",
       " 'stance',\n",
       " 'similar',\n",
       " 'btw']"
      ]
     },
     "execution_count": 62,
     "metadata": {},
     "output_type": "execute_result"
    }
   ],
   "source": [
    "tweets_nsw[0]\n"
   ]
  },
  {
   "cell_type": "code",
   "execution_count": 63,
   "metadata": {},
   "outputs": [
    {
     "data": {
      "text/plain": [
       "['wow',\n",
       " 'dad',\n",
       " 'yday',\n",
       " 'dont',\n",
       " 'take',\n",
       " 'stupid',\n",
       " 'depression',\n",
       " 'drugs',\n",
       " 'anymore',\n",
       " 'though',\n",
       " 'theyre',\n",
       " 'absolute',\n",
       " 'worst',\n",
       " 'thing',\n",
       " 'never',\n",
       " 'need',\n",
       " 'aint',\n",
       " 'great',\n",
       " 'family',\n",
       " 'supportive',\n",
       " 'moms',\n",
       " 'sisters',\n",
       " 'stance',\n",
       " 'similar',\n",
       " 'btw']"
      ]
     },
     "execution_count": 63,
     "metadata": {},
     "output_type": "execute_result"
    }
   ],
   "source": [
    "tweets_nsw_nc[0]\n"
   ]
  },
  {
   "cell_type": "code",
   "execution_count": 64,
   "metadata": {},
   "outputs": [
    {
     "data": {
      "text/plain": [
       "[('lonely', 55378),\n",
       " ('smile', 42634),\n",
       " ('wide', 42271),\n",
       " ('suicide', 39566),\n",
       " ('depression', 26013),\n",
       " ('depressed', 14064),\n",
       " ('people', 11913),\n",
       " ('hopeless', 11236),\n",
       " ('feel', 10500),\n",
       " ('get', 8998),\n",
       " ('know', 8041),\n",
       " ('dont', 7855),\n",
       " ('time', 7433),\n",
       " ('life', 6812),\n",
       " ('love', 6585)]"
      ]
     },
     "execution_count": 64,
     "metadata": {},
     "output_type": "execute_result"
    }
   ],
   "source": [
    "# Flatten list of words in clean tweets\n",
    "all_words_nsw_nc = list(itertools.chain(*tweets_nsw_nc))\n",
    "\n",
    "# Create counter of words in clean tweets\n",
    "counts_nsw_nc = collections.Counter(all_words_nsw_nc)\n",
    "\n",
    "counts_nsw_nc.most_common(15)"
   ]
  },
  {
   "cell_type": "code",
   "execution_count": 65,
   "metadata": {},
   "outputs": [
    {
     "data": {
      "text/plain": [
       "125585"
      ]
     },
     "execution_count": 65,
     "metadata": {},
     "output_type": "execute_result"
    }
   ],
   "source": [
    "len(counts_nsw_nc)\n"
   ]
  },
  {
   "cell_type": "code",
   "execution_count": null,
   "metadata": {},
   "outputs": [],
   "source": [
    "mean(counts_nsw_nc)"
   ]
  },
  {
   "cell_type": "code",
   "execution_count": 66,
   "metadata": {},
   "outputs": [
    {
     "data": {
      "text/html": [
       "<div>\n",
       "<style scoped>\n",
       "    .dataframe tbody tr th:only-of-type {\n",
       "        vertical-align: middle;\n",
       "    }\n",
       "\n",
       "    .dataframe tbody tr th {\n",
       "        vertical-align: top;\n",
       "    }\n",
       "\n",
       "    .dataframe thead th {\n",
       "        text-align: right;\n",
       "    }\n",
       "</style>\n",
       "<table border=\"1\" class=\"dataframe\">\n",
       "  <thead>\n",
       "    <tr style=\"text-align: right;\">\n",
       "      <th></th>\n",
       "      <th>words</th>\n",
       "      <th>count</th>\n",
       "    </tr>\n",
       "  </thead>\n",
       "  <tbody>\n",
       "    <tr>\n",
       "      <th>0</th>\n",
       "      <td>lonely</td>\n",
       "      <td>55378</td>\n",
       "    </tr>\n",
       "    <tr>\n",
       "      <th>1</th>\n",
       "      <td>smile</td>\n",
       "      <td>42634</td>\n",
       "    </tr>\n",
       "    <tr>\n",
       "      <th>2</th>\n",
       "      <td>wide</td>\n",
       "      <td>42271</td>\n",
       "    </tr>\n",
       "    <tr>\n",
       "      <th>3</th>\n",
       "      <td>suicide</td>\n",
       "      <td>39566</td>\n",
       "    </tr>\n",
       "    <tr>\n",
       "      <th>4</th>\n",
       "      <td>depression</td>\n",
       "      <td>26013</td>\n",
       "    </tr>\n",
       "  </tbody>\n",
       "</table>\n",
       "</div>"
      ],
      "text/plain": [
       "        words  count\n",
       "0      lonely  55378\n",
       "1       smile  42634\n",
       "2        wide  42271\n",
       "3     suicide  39566\n",
       "4  depression  26013"
      ]
     },
     "execution_count": 66,
     "metadata": {},
     "output_type": "execute_result"
    }
   ],
   "source": [
    "clean_tweets_ncw = pd.DataFrame(counts_nsw_nc.most_common(15),\n",
    "                             columns=['words', 'count'])\n",
    "clean_tweets_ncw.head()\n"
   ]
  },
  {
   "cell_type": "code",
   "execution_count": 67,
   "metadata": {},
   "outputs": [
    {
     "data": {
      "image/png": "[encoded data removed]",
      "text/plain": [
       "<Figure size 576x576 with 1 Axes>"
      ]
     },
     "metadata": {
      "image/png": {
       "height": 493,
       "width": 650
      }
     },
     "output_type": "display_data"
    }
   ],
   "source": [
    "fig, ax = plt.subplots(figsize=(8, 8))\n",
    "\n",
    "# Plot horizontal bar graph\n",
    "clean_tweets_ncw.sort_values(by='count').plot.barh(x='words',\n",
    "                      y='count',\n",
    "                      ax=ax,\n",
    "                      color=\"purple\")\n",
    "\n",
    "ax.set_title(\"Common Words Found in Tweets (Without Stop or Collection Words)\")\n",
    "\n",
    "plt.show()"
   ]
  },
  {
   "cell_type": "code",
   "execution_count": 69,
   "metadata": {},
   "outputs": [
    {
     "data": {
      "text/plain": [
       "[('wow', 'dad'),\n",
       " ('dad', 'yday'),\n",
       " ('yday', 'dont'),\n",
       " ('dont', 'take'),\n",
       " ('take', 'stupid'),\n",
       " ('stupid', 'depression'),\n",
       " ('depression', 'drugs'),\n",
       " ('drugs', 'anymore'),\n",
       " ('anymore', 'though'),\n",
       " ('though', 'theyre'),\n",
       " ('theyre', 'absolute'),\n",
       " ('absolute', 'worst'),\n",
       " ('worst', 'thing'),\n",
       " ('thing', 'never'),\n",
       " ('never', 'need'),\n",
       " ('need', 'aint'),\n",
       " ('aint', 'great'),\n",
       " ('great', 'family'),\n",
       " ('family', 'supportive'),\n",
       " ('supportive', 'moms'),\n",
       " ('moms', 'sisters'),\n",
       " ('sisters', 'stance'),\n",
       " ('stance', 'similar'),\n",
       " ('similar', 'btw')]"
      ]
     },
     "execution_count": 69,
     "metadata": {},
     "output_type": "execute_result"
    }
   ],
   "source": [
    "from nltk import bigrams\n",
    "\n",
    "# Create list of lists containing bigrams in tweets\n",
    "terms_bigram = [list(bigrams(tweet)) for tweet in tweets_nsw_nc]\n",
    "\n",
    "# View bigrams for the first tweet\n",
    "terms_bigram[0]"
   ]
  },
  {
   "cell_type": "code",
   "execution_count": 70,
   "metadata": {},
   "outputs": [
    {
     "data": {
      "text/plain": [
       "[(('smile', 'wide'), 42185),\n",
       " (('afraid', 'loneliness'), 4641),\n",
       " (('feel', 'lonely'), 3541),\n",
       " (('suicide', 'squad'), 2769),\n",
       " (('commit', 'suicide'), 2624),\n",
       " (('committed', 'suicide'), 1685),\n",
       " (('feeling', 'lonely'), 1645),\n",
       " (('mental', 'health'), 1398),\n",
       " (('hopeless', 'romantic'), 1347),\n",
       " (('anxiety', 'depression'), 1337),\n",
       " (('suicide', 'bomber'), 1320),\n",
       " (('depression', 'anxiety'), 1278),\n",
       " (('sad', 'lonely'), 1181),\n",
       " (('social', 'media'), 958),\n",
       " (('get', 'lonely'), 922),\n",
       " (('suicide', 'prevention'), 841),\n",
       " (('committing', 'suicide'), 838),\n",
       " (('seasonal', 'depression'), 806),\n",
       " (('female', 'suicide'), 760),\n",
       " (('dont', 'know'), 741)]"
      ]
     },
     "execution_count": 70,
     "metadata": {},
     "output_type": "execute_result"
    }
   ],
   "source": [
    "# Flatten list of bigrams in clean tweets\n",
    "bigrams = list(itertools.chain(*terms_bigram))\n",
    "\n",
    "# Create counter of words in clean bigrams\n",
    "bigram_counts = collections.Counter(bigrams)\n",
    "\n",
    "bigram_counts.most_common(20)"
   ]
  },
  {
   "cell_type": "code",
   "execution_count": 71,
   "metadata": {},
   "outputs": [
    {
     "data": {
      "text/html": [
       "<div>\n",
       "<style scoped>\n",
       "    .dataframe tbody tr th:only-of-type {\n",
       "        vertical-align: middle;\n",
       "    }\n",
       "\n",
       "    .dataframe tbody tr th {\n",
       "        vertical-align: top;\n",
       "    }\n",
       "\n",
       "    .dataframe thead th {\n",
       "        text-align: right;\n",
       "    }\n",
       "</style>\n",
       "<table border=\"1\" class=\"dataframe\">\n",
       "  <thead>\n",
       "    <tr style=\"text-align: right;\">\n",
       "      <th></th>\n",
       "      <th>bigram</th>\n",
       "      <th>count</th>\n",
       "    </tr>\n",
       "  </thead>\n",
       "  <tbody>\n",
       "    <tr>\n",
       "      <th>0</th>\n",
       "      <td>(smile, wide)</td>\n",
       "      <td>42185</td>\n",
       "    </tr>\n",
       "    <tr>\n",
       "      <th>1</th>\n",
       "      <td>(afraid, loneliness)</td>\n",
       "      <td>4641</td>\n",
       "    </tr>\n",
       "    <tr>\n",
       "      <th>2</th>\n",
       "      <td>(feel, lonely)</td>\n",
       "      <td>3541</td>\n",
       "    </tr>\n",
       "    <tr>\n",
       "      <th>3</th>\n",
       "      <td>(suicide, squad)</td>\n",
       "      <td>2769</td>\n",
       "    </tr>\n",
       "    <tr>\n",
       "      <th>4</th>\n",
       "      <td>(commit, suicide)</td>\n",
       "      <td>2624</td>\n",
       "    </tr>\n",
       "    <tr>\n",
       "      <th>5</th>\n",
       "      <td>(committed, suicide)</td>\n",
       "      <td>1685</td>\n",
       "    </tr>\n",
       "    <tr>\n",
       "      <th>6</th>\n",
       "      <td>(feeling, lonely)</td>\n",
       "      <td>1645</td>\n",
       "    </tr>\n",
       "    <tr>\n",
       "      <th>7</th>\n",
       "      <td>(mental, health)</td>\n",
       "      <td>1398</td>\n",
       "    </tr>\n",
       "    <tr>\n",
       "      <th>8</th>\n",
       "      <td>(hopeless, romantic)</td>\n",
       "      <td>1347</td>\n",
       "    </tr>\n",
       "    <tr>\n",
       "      <th>9</th>\n",
       "      <td>(anxiety, depression)</td>\n",
       "      <td>1337</td>\n",
       "    </tr>\n",
       "    <tr>\n",
       "      <th>10</th>\n",
       "      <td>(suicide, bomber)</td>\n",
       "      <td>1320</td>\n",
       "    </tr>\n",
       "    <tr>\n",
       "      <th>11</th>\n",
       "      <td>(depression, anxiety)</td>\n",
       "      <td>1278</td>\n",
       "    </tr>\n",
       "    <tr>\n",
       "      <th>12</th>\n",
       "      <td>(sad, lonely)</td>\n",
       "      <td>1181</td>\n",
       "    </tr>\n",
       "    <tr>\n",
       "      <th>13</th>\n",
       "      <td>(social, media)</td>\n",
       "      <td>958</td>\n",
       "    </tr>\n",
       "    <tr>\n",
       "      <th>14</th>\n",
       "      <td>(get, lonely)</td>\n",
       "      <td>922</td>\n",
       "    </tr>\n",
       "    <tr>\n",
       "      <th>15</th>\n",
       "      <td>(suicide, prevention)</td>\n",
       "      <td>841</td>\n",
       "    </tr>\n",
       "    <tr>\n",
       "      <th>16</th>\n",
       "      <td>(committing, suicide)</td>\n",
       "      <td>838</td>\n",
       "    </tr>\n",
       "    <tr>\n",
       "      <th>17</th>\n",
       "      <td>(seasonal, depression)</td>\n",
       "      <td>806</td>\n",
       "    </tr>\n",
       "    <tr>\n",
       "      <th>18</th>\n",
       "      <td>(female, suicide)</td>\n",
       "      <td>760</td>\n",
       "    </tr>\n",
       "    <tr>\n",
       "      <th>19</th>\n",
       "      <td>(dont, know)</td>\n",
       "      <td>741</td>\n",
       "    </tr>\n",
       "  </tbody>\n",
       "</table>\n",
       "</div>"
      ],
      "text/plain": [
       "                    bigram  count\n",
       "0            (smile, wide)  42185\n",
       "1     (afraid, loneliness)   4641\n",
       "2           (feel, lonely)   3541\n",
       "3         (suicide, squad)   2769\n",
       "4        (commit, suicide)   2624\n",
       "5     (committed, suicide)   1685\n",
       "6        (feeling, lonely)   1645\n",
       "7         (mental, health)   1398\n",
       "8     (hopeless, romantic)   1347\n",
       "9    (anxiety, depression)   1337\n",
       "10       (suicide, bomber)   1320\n",
       "11   (depression, anxiety)   1278\n",
       "12           (sad, lonely)   1181\n",
       "13         (social, media)    958\n",
       "14           (get, lonely)    922\n",
       "15   (suicide, prevention)    841\n",
       "16   (committing, suicide)    838\n",
       "17  (seasonal, depression)    806\n",
       "18       (female, suicide)    760\n",
       "19            (dont, know)    741"
      ]
     },
     "execution_count": 71,
     "metadata": {},
     "output_type": "execute_result"
    }
   ],
   "source": [
    "bigram_df = pd.DataFrame(bigram_counts.most_common(20),\n",
    "                             columns=['bigram', 'count'])\n",
    "\n",
    "bigram_df"
   ]
  },
  {
   "cell_type": "code",
   "execution_count": 159,
   "metadata": {},
   "outputs": [
    {
     "data": {
      "image/png": "[encoded data removed]",
      "text/plain": [
       "<Figure size 1008x864 with 1 Axes>"
      ]
     },
     "metadata": {
      "image/png": {
       "height": 694,
       "width": 998
      }
     },
     "output_type": "display_data"
    }
   ],
   "source": [
    "# Create dictionary of bigrams and their counts\n",
    "d = bigram_df.set_index('bigram').T.to_dict('records')\n",
    "# Create network plot \n",
    "G = nx.Graph()\n",
    "\n",
    "# Create connections between nodes\n",
    "for k, v in d[0].items():\n",
    "    G.add_edge(k[0], k[1], weight=(v * 10))\n",
    "\n",
    "fig, ax = plt.subplots(figsize=(14, 12))\n",
    "\n",
    "pos = nx.spring_layout(G, k=1)\n",
    "\n",
    "# Plot networks\n",
    "nx.draw_networkx(G, pos,\n",
    "                 font_size=16,\n",
    "                 width=3,\n",
    "                 edge_color='grey',\n",
    "                 node_color='purple',\n",
    "                 with_labels = False,\n",
    "                 ax=ax)\n",
    "\n",
    "# Create offset labels\n",
    "for key, value in pos.items():\n",
    "    x, y = value[0]+.135, value[1]+.045\n",
    "    ax.text(x, y,\n",
    "            s=key,\n",
    "            bbox=dict(facecolor='red', alpha=0.25),\n",
    "            horizontalalignment='center', fontsize=13)\n",
    "    \n",
    "plt.show()"
   ]
  },
  {
   "cell_type": "code",
   "execution_count": null,
   "metadata": {},
   "outputs": [],
   "source": []
  },
  {
   "cell_type": "code",
   "execution_count": 91,
   "metadata": {},
   "outputs": [],
   "source": [
    "train = pd.read_csv('depressive_unigram_tweets_final.csv')"
   ]
  },
  {
   "cell_type": "code",
   "execution_count": 92,
   "metadata": {},
   "outputs": [
    {
     "data": {
      "text/html": [
       "<div>\n",
       "<style scoped>\n",
       "    .dataframe tbody tr th:only-of-type {\n",
       "        vertical-align: middle;\n",
       "    }\n",
       "\n",
       "    .dataframe tbody tr th {\n",
       "        vertical-align: top;\n",
       "    }\n",
       "\n",
       "    .dataframe thead th {\n",
       "        text-align: right;\n",
       "    }\n",
       "</style>\n",
       "<table border=\"1\" class=\"dataframe\">\n",
       "  <thead>\n",
       "    <tr style=\"text-align: right;\">\n",
       "      <th></th>\n",
       "      <th>Unnamed: 0</th>\n",
       "      <th>Unnamed: 0.1</th>\n",
       "      <th>cashtags</th>\n",
       "      <th>hashtags</th>\n",
       "      <th>id</th>\n",
       "      <th>time</th>\n",
       "      <th>tweet</th>\n",
       "    </tr>\n",
       "  </thead>\n",
       "  <tbody>\n",
       "    <tr>\n",
       "      <th>0</th>\n",
       "      <td>0</td>\n",
       "      <td>0</td>\n",
       "      <td>[]</td>\n",
       "      <td>[]</td>\n",
       "      <td>1.15135E+18</td>\n",
       "      <td>21:25:13</td>\n",
       "      <td>Wow, my dad yday: “you don’t take those stupid...</td>\n",
       "    </tr>\n",
       "    <tr>\n",
       "      <th>1</th>\n",
       "      <td>1</td>\n",
       "      <td>1</td>\n",
       "      <td>[]</td>\n",
       "      <td>[]</td>\n",
       "      <td>1.15135E+18</td>\n",
       "      <td>21:25:07</td>\n",
       "      <td>what part of this was really harmfult of a lot...</td>\n",
       "    </tr>\n",
       "    <tr>\n",
       "      <th>2</th>\n",
       "      <td>2</td>\n",
       "      <td>2</td>\n",
       "      <td>[]</td>\n",
       "      <td>['#depression', '#uncoveringthenewu', '#change...</td>\n",
       "      <td>1.15135E+18</td>\n",
       "      <td>21:25:06</td>\n",
       "      <td>one of the ways I got through my #depression i...</td>\n",
       "    </tr>\n",
       "    <tr>\n",
       "      <th>3</th>\n",
       "      <td>3</td>\n",
       "      <td>3</td>\n",
       "      <td>[]</td>\n",
       "      <td>[]</td>\n",
       "      <td>1.15135E+18</td>\n",
       "      <td>21:24:55</td>\n",
       "      <td>see i wanna do one of them but they all say th...</td>\n",
       "    </tr>\n",
       "    <tr>\n",
       "      <th>4</th>\n",
       "      <td>4</td>\n",
       "      <td>4</td>\n",
       "      <td>[]</td>\n",
       "      <td>[]</td>\n",
       "      <td>1.15135E+18</td>\n",
       "      <td>21:24:51</td>\n",
       "      <td>IS IT clinical depression or is it the palpabl...</td>\n",
       "    </tr>\n",
       "  </tbody>\n",
       "</table>\n",
       "</div>"
      ],
      "text/plain": [
       "  Unnamed: 0 Unnamed: 0.1 cashtags  \\\n",
       "0          0            0       []   \n",
       "1          1            1       []   \n",
       "2          2            2       []   \n",
       "3          3            3       []   \n",
       "4          4            4       []   \n",
       "\n",
       "                                            hashtags           id      time  \\\n",
       "0                                                 []  1.15135E+18  21:25:13   \n",
       "1                                                 []  1.15135E+18  21:25:07   \n",
       "2  ['#depression', '#uncoveringthenewu', '#change...  1.15135E+18  21:25:06   \n",
       "3                                                 []  1.15135E+18  21:24:55   \n",
       "4                                                 []  1.15135E+18  21:24:51   \n",
       "\n",
       "                                               tweet  \n",
       "0  Wow, my dad yday: “you don’t take those stupid...  \n",
       "1  what part of this was really harmfult of a lot...  \n",
       "2  one of the ways I got through my #depression i...  \n",
       "3  see i wanna do one of them but they all say th...  \n",
       "4  IS IT clinical depression or is it the palpabl...  "
      ]
     },
     "execution_count": 92,
     "metadata": {},
     "output_type": "execute_result"
    }
   ],
   "source": [
    "train.head()"
   ]
  },
  {
   "cell_type": "code",
   "execution_count": 110,
   "metadata": {},
   "outputs": [
    {
     "data": {
      "text/html": [
       "<div>\n",
       "<style scoped>\n",
       "    .dataframe tbody tr th:only-of-type {\n",
       "        vertical-align: middle;\n",
       "    }\n",
       "\n",
       "    .dataframe tbody tr th {\n",
       "        vertical-align: top;\n",
       "    }\n",
       "\n",
       "    .dataframe thead th {\n",
       "        text-align: right;\n",
       "    }\n",
       "</style>\n",
       "<table border=\"1\" class=\"dataframe\">\n",
       "  <thead>\n",
       "    <tr style=\"text-align: right;\">\n",
       "      <th></th>\n",
       "      <th>tweet</th>\n",
       "      <th>word_count</th>\n",
       "    </tr>\n",
       "  </thead>\n",
       "  <tbody>\n",
       "    <tr>\n",
       "      <th>0</th>\n",
       "      <td>Wow, my dad yday: “you don’t take those stupid...</td>\n",
       "      <td>50</td>\n",
       "    </tr>\n",
       "    <tr>\n",
       "      <th>1</th>\n",
       "      <td>what part of this was really harmfult of a lot...</td>\n",
       "      <td>51</td>\n",
       "    </tr>\n",
       "    <tr>\n",
       "      <th>2</th>\n",
       "      <td>one of the ways I got through my #depression i...</td>\n",
       "      <td>33</td>\n",
       "    </tr>\n",
       "    <tr>\n",
       "      <th>3</th>\n",
       "      <td>see i wanna do one of them but they all say th...</td>\n",
       "      <td>24</td>\n",
       "    </tr>\n",
       "    <tr>\n",
       "      <th>4</th>\n",
       "      <td>IS IT clinical depression or is it the palpabl...</td>\n",
       "      <td>13</td>\n",
       "    </tr>\n",
       "  </tbody>\n",
       "</table>\n",
       "</div>"
      ],
      "text/plain": [
       "                                               tweet  word_count\n",
       "0  Wow, my dad yday: “you don’t take those stupid...          50\n",
       "1  what part of this was really harmfult of a lot...          51\n",
       "2  one of the ways I got through my #depression i...          33\n",
       "3  see i wanna do one of them but they all say th...          24\n",
       "4  IS IT clinical depression or is it the palpabl...          13"
      ]
     },
     "execution_count": 110,
     "metadata": {},
     "output_type": "execute_result"
    }
   ],
   "source": [
    "train['word_count'] = train['tweet'].apply(lambda x: int(len(str(x).split(\" \"))))\n",
    "train[['tweet','word_count']].head()"
   ]
  },
  {
   "cell_type": "code",
   "execution_count": 111,
   "metadata": {},
   "outputs": [
    {
     "data": {
      "text/html": [
       "<div>\n",
       "<style scoped>\n",
       "    .dataframe tbody tr th:only-of-type {\n",
       "        vertical-align: middle;\n",
       "    }\n",
       "\n",
       "    .dataframe tbody tr th {\n",
       "        vertical-align: top;\n",
       "    }\n",
       "\n",
       "    .dataframe thead th {\n",
       "        text-align: right;\n",
       "    }\n",
       "</style>\n",
       "<table border=\"1\" class=\"dataframe\">\n",
       "  <thead>\n",
       "    <tr style=\"text-align: right;\">\n",
       "      <th></th>\n",
       "      <th>tweet</th>\n",
       "      <th>char_count</th>\n",
       "    </tr>\n",
       "  </thead>\n",
       "  <tbody>\n",
       "    <tr>\n",
       "      <th>0</th>\n",
       "      <td>Wow, my dad yday: “you don’t take those stupid...</td>\n",
       "      <td>278.0</td>\n",
       "    </tr>\n",
       "    <tr>\n",
       "      <th>1</th>\n",
       "      <td>what part of this was really harmfult of a lot...</td>\n",
       "      <td>274.0</td>\n",
       "    </tr>\n",
       "    <tr>\n",
       "      <th>2</th>\n",
       "      <td>one of the ways I got through my #depression i...</td>\n",
       "      <td>235.0</td>\n",
       "    </tr>\n",
       "    <tr>\n",
       "      <th>3</th>\n",
       "      <td>see i wanna do one of them but they all say th...</td>\n",
       "      <td>114.0</td>\n",
       "    </tr>\n",
       "    <tr>\n",
       "      <th>4</th>\n",
       "      <td>IS IT clinical depression or is it the palpabl...</td>\n",
       "      <td>78.0</td>\n",
       "    </tr>\n",
       "  </tbody>\n",
       "</table>\n",
       "</div>"
      ],
      "text/plain": [
       "                                               tweet  char_count\n",
       "0  Wow, my dad yday: “you don’t take those stupid...       278.0\n",
       "1  what part of this was really harmfult of a lot...       274.0\n",
       "2  one of the ways I got through my #depression i...       235.0\n",
       "3  see i wanna do one of them but they all say th...       114.0\n",
       "4  IS IT clinical depression or is it the palpabl...        78.0"
      ]
     },
     "execution_count": 111,
     "metadata": {},
     "output_type": "execute_result"
    }
   ],
   "source": [
    "train['char_count'] = train['tweet'].str.len() ## this also includes spaces\n",
    "train[['tweet','char_count']].head()"
   ]
  },
  {
   "cell_type": "code",
   "execution_count": 118,
   "metadata": {},
   "outputs": [
    {
     "data": {
      "text/plain": [
       "0    278.0\n",
       "1    274.0\n",
       "2    235.0\n",
       "3    114.0\n",
       "4     78.0\n",
       "Name: tweet, dtype: float64"
      ]
     },
     "execution_count": 118,
     "metadata": {},
     "output_type": "execute_result"
    }
   ],
   "source": [
    "char_count = train['tweet'].str.len() ## this also includes spaces\n",
    "char_count.head()"
   ]
  },
  {
   "cell_type": "code",
   "execution_count": 119,
   "metadata": {},
   "outputs": [
    {
     "data": {
      "text/plain": [
       "39.08271239713583"
      ]
     },
     "execution_count": 119,
     "metadata": {},
     "output_type": "execute_result"
    }
   ],
   "source": [
    "char_count.mean()"
   ]
  },
  {
   "cell_type": "code",
   "execution_count": 120,
   "metadata": {},
   "outputs": [
    {
     "data": {
      "text/plain": [
       "28.0"
      ]
     },
     "execution_count": 120,
     "metadata": {},
     "output_type": "execute_result"
    }
   ],
   "source": [
    "char_count.median()"
   ]
  },
  {
   "cell_type": "code",
   "execution_count": 121,
   "metadata": {},
   "outputs": [
    {
     "data": {
      "text/plain": [
       "0    27.0\n",
       "dtype: float64"
      ]
     },
     "execution_count": 121,
     "metadata": {},
     "output_type": "execute_result"
    }
   ],
   "source": [
    "char_count.mode()"
   ]
  },
  {
   "cell_type": "code",
   "execution_count": 136,
   "metadata": {},
   "outputs": [],
   "source": [
    "word_counts = train['tweet'].apply(lambda x: int(len(str(x).split(\" \"))))\n"
   ]
  },
  {
   "cell_type": "code",
   "execution_count": 137,
   "metadata": {},
   "outputs": [
    {
     "data": {
      "text/plain": [
       "0    50\n",
       "1    51\n",
       "2    33\n",
       "3    24\n",
       "4    13\n",
       "Name: tweet, dtype: int64"
      ]
     },
     "execution_count": 137,
     "metadata": {},
     "output_type": "execute_result"
    }
   ],
   "source": [
    "word_counts.head()"
   ]
  },
  {
   "cell_type": "code",
   "execution_count": 138,
   "metadata": {},
   "outputs": [
    {
     "data": {
      "text/plain": [
       "4.8869669806033675"
      ]
     },
     "execution_count": 138,
     "metadata": {},
     "output_type": "execute_result"
    }
   ],
   "source": [
    "word_counts.mean()"
   ]
  },
  {
   "cell_type": "code",
   "execution_count": 139,
   "metadata": {},
   "outputs": [
    {
     "data": {
      "text/plain": [
       "5.0"
      ]
     },
     "execution_count": 139,
     "metadata": {},
     "output_type": "execute_result"
    }
   ],
   "source": [
    "word_counts.median()"
   ]
  },
  {
   "cell_type": "code",
   "execution_count": 140,
   "metadata": {},
   "outputs": [
    {
     "data": {
      "text/plain": [
       "0    1\n",
       "dtype: int64"
      ]
     },
     "execution_count": 140,
     "metadata": {},
     "output_type": "execute_result"
    }
   ],
   "source": [
    "word_counts.mode()"
   ]
  },
  {
   "cell_type": "code",
   "execution_count": null,
   "metadata": {},
   "outputs": [],
   "source": []
  },
  {
   "cell_type": "code",
   "execution_count": 169,
   "metadata": {},
   "outputs": [
    {
     "ename": "AttributeError",
     "evalue": "Unknown property palette",
     "output_type": "error",
     "traceback": [
      "\u001b[0;31m---------------------------------------------------------------------------\u001b[0m",
      "\u001b[0;31mAttributeError\u001b[0m                            Traceback (most recent call last)",
      "\u001b[0;32m<ipython-input-169-6e92a7ede831>\u001b[0m in \u001b[0;36m<module>\u001b[0;34m\u001b[0m\n\u001b[1;32m      2\u001b[0m \u001b[0mx\u001b[0m \u001b[0;34m=\u001b[0m \u001b[0mchar_count\u001b[0m\u001b[0;34m\u001b[0m\u001b[0;34m\u001b[0m\u001b[0m\n\u001b[1;32m      3\u001b[0m \u001b[0mplt\u001b[0m\u001b[0;34m.\u001b[0m\u001b[0mhist\u001b[0m\u001b[0;34m(\u001b[0m\u001b[0mx\u001b[0m\u001b[0;34m,\u001b[0m \u001b[0mbins\u001b[0m\u001b[0;34m=\u001b[0m\u001b[0;36m50\u001b[0m\u001b[0;34m)\u001b[0m\u001b[0;34m\u001b[0m\u001b[0;34m\u001b[0m\u001b[0m\n\u001b[0;32m----> 4\u001b[0;31m \u001b[0mplt\u001b[0m\u001b[0;34m.\u001b[0m\u001b[0mgca\u001b[0m\u001b[0;34m(\u001b[0m\u001b[0;34m)\u001b[0m\u001b[0;34m.\u001b[0m\u001b[0mset\u001b[0m\u001b[0;34m(\u001b[0m\u001b[0mtitle\u001b[0m\u001b[0;34m=\u001b[0m\u001b[0;34m'Characters'\u001b[0m\u001b[0;34m,\u001b[0m \u001b[0mylabel\u001b[0m\u001b[0;34m=\u001b[0m\u001b[0;34m'Frequency'\u001b[0m\u001b[0;34m,\u001b[0m \u001b[0mxlabel\u001b[0m\u001b[0;34m=\u001b[0m\u001b[0;34m'characters'\u001b[0m\u001b[0;34m,\u001b[0m \u001b[0mpalette\u001b[0m\u001b[0;34m=\u001b[0m\u001b[0;34m'viridis'\u001b[0m\u001b[0;34m)\u001b[0m\u001b[0;34m;\u001b[0m\u001b[0;34m\u001b[0m\u001b[0;34m\u001b[0m\u001b[0m\n\u001b[0m\u001b[1;32m      5\u001b[0m \u001b[0mplt\u001b[0m\u001b[0;34m.\u001b[0m\u001b[0mxlim\u001b[0m\u001b[0;34m(\u001b[0m\u001b[0;36m0\u001b[0m\u001b[0;34m,\u001b[0m \u001b[0;36m300\u001b[0m\u001b[0;34m)\u001b[0m\u001b[0;34m\u001b[0m\u001b[0;34m\u001b[0m\u001b[0m\n",
      "\u001b[0;32m~/anaconda3/lib/python3.7/site-packages/matplotlib/artist.py\u001b[0m in \u001b[0;36mset\u001b[0;34m(self, **kwargs)\u001b[0m\n\u001b[1;32m   1013\u001b[0m                    key=lambda x: (self._prop_order.get(x[0], 0), x[0])))\n\u001b[1;32m   1014\u001b[0m \u001b[0;34m\u001b[0m\u001b[0m\n\u001b[0;32m-> 1015\u001b[0;31m         \u001b[0;32mreturn\u001b[0m \u001b[0mself\u001b[0m\u001b[0;34m.\u001b[0m\u001b[0mupdate\u001b[0m\u001b[0;34m(\u001b[0m\u001b[0mprops\u001b[0m\u001b[0;34m)\u001b[0m\u001b[0;34m\u001b[0m\u001b[0;34m\u001b[0m\u001b[0m\n\u001b[0m\u001b[1;32m   1016\u001b[0m \u001b[0;34m\u001b[0m\u001b[0m\n\u001b[1;32m   1017\u001b[0m     \u001b[0;32mdef\u001b[0m \u001b[0mfindobj\u001b[0m\u001b[0;34m(\u001b[0m\u001b[0mself\u001b[0m\u001b[0;34m,\u001b[0m \u001b[0mmatch\u001b[0m\u001b[0;34m=\u001b[0m\u001b[0;32mNone\u001b[0m\u001b[0;34m,\u001b[0m \u001b[0minclude_self\u001b[0m\u001b[0;34m=\u001b[0m\u001b[0;32mTrue\u001b[0m\u001b[0;34m)\u001b[0m\u001b[0;34m:\u001b[0m\u001b[0;34m\u001b[0m\u001b[0;34m\u001b[0m\u001b[0m\n",
      "\u001b[0;32m~/anaconda3/lib/python3.7/site-packages/matplotlib/artist.py\u001b[0m in \u001b[0;36mupdate\u001b[0;34m(self, props)\u001b[0m\n\u001b[1;32m    914\u001b[0m \u001b[0;34m\u001b[0m\u001b[0m\n\u001b[1;32m    915\u001b[0m         \u001b[0;32mwith\u001b[0m \u001b[0mcbook\u001b[0m\u001b[0;34m.\u001b[0m\u001b[0m_setattr_cm\u001b[0m\u001b[0;34m(\u001b[0m\u001b[0mself\u001b[0m\u001b[0;34m,\u001b[0m \u001b[0meventson\u001b[0m\u001b[0;34m=\u001b[0m\u001b[0;32mFalse\u001b[0m\u001b[0;34m)\u001b[0m\u001b[0;34m:\u001b[0m\u001b[0;34m\u001b[0m\u001b[0;34m\u001b[0m\u001b[0m\n\u001b[0;32m--> 916\u001b[0;31m             \u001b[0mret\u001b[0m \u001b[0;34m=\u001b[0m \u001b[0;34m[\u001b[0m\u001b[0m_update_property\u001b[0m\u001b[0;34m(\u001b[0m\u001b[0mself\u001b[0m\u001b[0;34m,\u001b[0m \u001b[0mk\u001b[0m\u001b[0;34m,\u001b[0m \u001b[0mv\u001b[0m\u001b[0;34m)\u001b[0m \u001b[0;32mfor\u001b[0m \u001b[0mk\u001b[0m\u001b[0;34m,\u001b[0m \u001b[0mv\u001b[0m \u001b[0;32min\u001b[0m \u001b[0mprops\u001b[0m\u001b[0;34m.\u001b[0m\u001b[0mitems\u001b[0m\u001b[0;34m(\u001b[0m\u001b[0;34m)\u001b[0m\u001b[0;34m]\u001b[0m\u001b[0;34m\u001b[0m\u001b[0;34m\u001b[0m\u001b[0m\n\u001b[0m\u001b[1;32m    917\u001b[0m \u001b[0;34m\u001b[0m\u001b[0m\n\u001b[1;32m    918\u001b[0m         \u001b[0;32mif\u001b[0m \u001b[0mlen\u001b[0m\u001b[0;34m(\u001b[0m\u001b[0mret\u001b[0m\u001b[0;34m)\u001b[0m\u001b[0;34m:\u001b[0m\u001b[0;34m\u001b[0m\u001b[0;34m\u001b[0m\u001b[0m\n",
      "\u001b[0;32m~/anaconda3/lib/python3.7/site-packages/matplotlib/artist.py\u001b[0m in \u001b[0;36m<listcomp>\u001b[0;34m(.0)\u001b[0m\n\u001b[1;32m    914\u001b[0m \u001b[0;34m\u001b[0m\u001b[0m\n\u001b[1;32m    915\u001b[0m         \u001b[0;32mwith\u001b[0m \u001b[0mcbook\u001b[0m\u001b[0;34m.\u001b[0m\u001b[0m_setattr_cm\u001b[0m\u001b[0;34m(\u001b[0m\u001b[0mself\u001b[0m\u001b[0;34m,\u001b[0m \u001b[0meventson\u001b[0m\u001b[0;34m=\u001b[0m\u001b[0;32mFalse\u001b[0m\u001b[0;34m)\u001b[0m\u001b[0;34m:\u001b[0m\u001b[0;34m\u001b[0m\u001b[0;34m\u001b[0m\u001b[0m\n\u001b[0;32m--> 916\u001b[0;31m             \u001b[0mret\u001b[0m \u001b[0;34m=\u001b[0m \u001b[0;34m[\u001b[0m\u001b[0m_update_property\u001b[0m\u001b[0;34m(\u001b[0m\u001b[0mself\u001b[0m\u001b[0;34m,\u001b[0m \u001b[0mk\u001b[0m\u001b[0;34m,\u001b[0m \u001b[0mv\u001b[0m\u001b[0;34m)\u001b[0m \u001b[0;32mfor\u001b[0m \u001b[0mk\u001b[0m\u001b[0;34m,\u001b[0m \u001b[0mv\u001b[0m \u001b[0;32min\u001b[0m \u001b[0mprops\u001b[0m\u001b[0;34m.\u001b[0m\u001b[0mitems\u001b[0m\u001b[0;34m(\u001b[0m\u001b[0;34m)\u001b[0m\u001b[0;34m]\u001b[0m\u001b[0;34m\u001b[0m\u001b[0;34m\u001b[0m\u001b[0m\n\u001b[0m\u001b[1;32m    917\u001b[0m \u001b[0;34m\u001b[0m\u001b[0m\n\u001b[1;32m    918\u001b[0m         \u001b[0;32mif\u001b[0m \u001b[0mlen\u001b[0m\u001b[0;34m(\u001b[0m\u001b[0mret\u001b[0m\u001b[0;34m)\u001b[0m\u001b[0;34m:\u001b[0m\u001b[0;34m\u001b[0m\u001b[0;34m\u001b[0m\u001b[0m\n",
      "\u001b[0;32m~/anaconda3/lib/python3.7/site-packages/matplotlib/artist.py\u001b[0m in \u001b[0;36m_update_property\u001b[0;34m(self, k, v)\u001b[0m\n\u001b[1;32m    910\u001b[0m                 \u001b[0mfunc\u001b[0m \u001b[0;34m=\u001b[0m \u001b[0mgetattr\u001b[0m\u001b[0;34m(\u001b[0m\u001b[0mself\u001b[0m\u001b[0;34m,\u001b[0m \u001b[0;34m'set_'\u001b[0m \u001b[0;34m+\u001b[0m \u001b[0mk\u001b[0m\u001b[0;34m,\u001b[0m \u001b[0;32mNone\u001b[0m\u001b[0;34m)\u001b[0m\u001b[0;34m\u001b[0m\u001b[0;34m\u001b[0m\u001b[0m\n\u001b[1;32m    911\u001b[0m                 \u001b[0;32mif\u001b[0m \u001b[0;32mnot\u001b[0m \u001b[0mcallable\u001b[0m\u001b[0;34m(\u001b[0m\u001b[0mfunc\u001b[0m\u001b[0;34m)\u001b[0m\u001b[0;34m:\u001b[0m\u001b[0;34m\u001b[0m\u001b[0;34m\u001b[0m\u001b[0m\n\u001b[0;32m--> 912\u001b[0;31m                     \u001b[0;32mraise\u001b[0m \u001b[0mAttributeError\u001b[0m\u001b[0;34m(\u001b[0m\u001b[0;34m'Unknown property %s'\u001b[0m \u001b[0;34m%\u001b[0m \u001b[0mk\u001b[0m\u001b[0;34m)\u001b[0m\u001b[0;34m\u001b[0m\u001b[0;34m\u001b[0m\u001b[0m\n\u001b[0m\u001b[1;32m    913\u001b[0m                 \u001b[0;32mreturn\u001b[0m \u001b[0mfunc\u001b[0m\u001b[0;34m(\u001b[0m\u001b[0mv\u001b[0m\u001b[0;34m)\u001b[0m\u001b[0;34m\u001b[0m\u001b[0;34m\u001b[0m\u001b[0m\n\u001b[1;32m    914\u001b[0m \u001b[0;34m\u001b[0m\u001b[0m\n",
      "\u001b[0;31mAttributeError\u001b[0m: Unknown property palette"
     ]
    },
    {
     "data": {
      "image/png": "[encoded data removed]",
      "text/plain": [
       "<Figure size 432x288 with 1 Axes>"
      ]
     },
     "metadata": {
      "image/png": {
       "height": 296,
       "width": 478
      }
     },
     "output_type": "display_data"
    }
   ],
   "source": [
    "# Plot Histogram on x\n",
    "x = char_count\n",
    "plt.hist(x, bins=50)\n",
    "plt.gca().set(title='Characters', ylabel='Frequency', xlabel='characters');\n",
    "plt.xlim(0, 300)"
   ]
  },
  {
   "cell_type": "code",
   "execution_count": 154,
   "metadata": {},
   "outputs": [
    {
     "data": {
      "text/plain": [
       "(0, 100)"
      ]
     },
     "execution_count": 154,
     "metadata": {},
     "output_type": "execute_result"
    },
    {
     "data": {
      "image/png": "[encoded data removed]",
      "text/plain": [
       "<Figure size 432x288 with 1 Axes>"
      ]
     },
     "metadata": {
      "image/png": {
       "height": 296,
       "width": 498
      }
     },
     "output_type": "display_data"
    }
   ],
   "source": [
    "# Plot Histogram on x\n",
    "x = word_counts\n",
    "plt.hist(x, bins=50)\n",
    "plt.gca().set(title='Words', ylabel='Frequency', xlabel='words');\n",
    "plt.xlim(0, 100)"
   ]
  },
  {
   "cell_type": "code",
   "execution_count": null,
   "metadata": {},
   "outputs": [],
   "source": []
  }
 ],
 "metadata": {
  "kernelspec": {
   "display_name": "Python 3",
   "language": "python",
   "name": "python3"
  },
  "language_info": {
   "codemirror_mode": {
    "name": "ipython",
    "version": 3
   },
   "file_extension": ".py",
   "mimetype": "text/x-python",
   "name": "python",
   "nbconvert_exporter": "python",
   "pygments_lexer": "ipython3",
   "version": "3.7.3"
  }
 },
 "nbformat": 4,
 "nbformat_minor": 2
}
